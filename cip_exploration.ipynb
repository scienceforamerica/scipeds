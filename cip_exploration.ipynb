{
 "cells": [
  {
   "cell_type": "code",
   "execution_count": 53,
   "id": "e5a02528-b0bc-49cd-8507-0f5ab461dd11",
   "metadata": {},
   "outputs": [
    {
     "name": "stdout",
     "output_type": "stream",
     "text": [
      "The autoreload extension is already loaded. To reload it, use:\n",
      "  %reload_ext autoreload\n"
     ]
    }
   ],
   "source": [
    "%load_ext autoreload \n",
    "%autoreload 2"
   ]
  },
  {
   "cell_type": "code",
   "execution_count": 75,
   "id": "87c3d311-8497-4c10-a765-95af20d989e9",
   "metadata": {},
   "outputs": [],
   "source": [
    "from scipeds.data.queries import QueryFilters, TaxonomyRollup\n",
    "from scipeds.data.completions import CompletionsQueryEngine\n",
    "from scipeds.data.enums import FieldTaxonomy, AwardLevel\n",
    "\n",
    "from pathlib import Path\n",
    "\n",
    "import pandas as pd"
   ]
  },
  {
   "cell_type": "code",
   "execution_count": 55,
   "id": "b4f3816e-4e7e-44b2-9c79-80de1c7d93ae",
   "metadata": {},
   "outputs": [],
   "source": [
    "db_path = Path('data/processed/ipeds.duckdb')"
   ]
  },
  {
   "cell_type": "code",
   "execution_count": 56,
   "id": "7080081d-7eec-42f8-b8d3-104e2fa034ac",
   "metadata": {},
   "outputs": [],
   "source": [
    "engine = CompletionsQueryEngine(db_path=db_path)"
   ]
  },
  {
   "cell_type": "code",
   "execution_count": 57,
   "id": "7f2635b9-d279-4ac2-81b6-7e9ea6e224aa",
   "metadata": {},
   "outputs": [],
   "source": [
    "qf = QueryFilters(start_year=1984, end_year=1994)\n"
   ]
  },
  {
   "cell_type": "markdown",
   "id": "f13b27ee-f18b-43c7-b290-12c8f92c6c7c",
   "metadata": {},
   "source": [
    "First let's diagnose the problem -- how many of the CIP codes (converted to their cip2020 version) in the 1984-1994 data are unknown / not in NCSES?"
   ]
  },
  {
   "cell_type": "code",
   "execution_count": 58,
   "id": "ccb62d52-75e5-462d-aea8-faad87188699",
   "metadata": {},
   "outputs": [
    {
     "data": {
      "text/html": [
       "<div>\n",
       "<style scoped>\n",
       "    .dataframe tbody tr th:only-of-type {\n",
       "        vertical-align: middle;\n",
       "    }\n",
       "\n",
       "    .dataframe tbody tr th {\n",
       "        vertical-align: top;\n",
       "    }\n",
       "\n",
       "    .dataframe thead th {\n",
       "        text-align: right;\n",
       "    }\n",
       "</style>\n",
       "<table border=\"1\" class=\"dataframe\">\n",
       "  <thead>\n",
       "    <tr style=\"text-align: right;\">\n",
       "      <th></th>\n",
       "      <th>FieldTaxonomy.cip</th>\n",
       "      <th>gender</th>\n",
       "      <th>year</th>\n",
       "      <th>field_degrees_within_gender</th>\n",
       "      <th>field_degrees_total</th>\n",
       "      <th>uni_degrees_within_gender</th>\n",
       "      <th>uni_degrees_total</th>\n",
       "    </tr>\n",
       "  </thead>\n",
       "  <tbody>\n",
       "    <tr>\n",
       "      <th>0</th>\n",
       "      <td>01.0000</td>\n",
       "      <td>men</td>\n",
       "      <td>1984</td>\n",
       "      <td>1779</td>\n",
       "      <td>2354</td>\n",
       "      <td>983227</td>\n",
       "      <td>1991889</td>\n",
       "    </tr>\n",
       "    <tr>\n",
       "      <th>1</th>\n",
       "      <td>01.0000</td>\n",
       "      <td>men</td>\n",
       "      <td>1985</td>\n",
       "      <td>1649</td>\n",
       "      <td>2222</td>\n",
       "      <td>980838</td>\n",
       "      <td>2004285</td>\n",
       "    </tr>\n",
       "    <tr>\n",
       "      <th>2</th>\n",
       "      <td>01.0000</td>\n",
       "      <td>men</td>\n",
       "      <td>1986</td>\n",
       "      <td>1451</td>\n",
       "      <td>1974</td>\n",
       "      <td>975329</td>\n",
       "      <td>2008295</td>\n",
       "    </tr>\n",
       "    <tr>\n",
       "      <th>3</th>\n",
       "      <td>01.0000</td>\n",
       "      <td>men</td>\n",
       "      <td>1987</td>\n",
       "      <td>1218</td>\n",
       "      <td>1705</td>\n",
       "      <td>1036892</td>\n",
       "      <td>2163263</td>\n",
       "    </tr>\n",
       "    <tr>\n",
       "      <th>4</th>\n",
       "      <td>01.0000</td>\n",
       "      <td>men</td>\n",
       "      <td>1988</td>\n",
       "      <td>1192</td>\n",
       "      <td>1644</td>\n",
       "      <td>1112371</td>\n",
       "      <td>2324652</td>\n",
       "    </tr>\n",
       "  </tbody>\n",
       "</table>\n",
       "</div>"
      ],
      "text/plain": [
       "  FieldTaxonomy.cip gender  year  field_degrees_within_gender  \\\n",
       "0           01.0000    men  1984                         1779   \n",
       "1           01.0000    men  1985                         1649   \n",
       "2           01.0000    men  1986                         1451   \n",
       "3           01.0000    men  1987                         1218   \n",
       "4           01.0000    men  1988                         1192   \n",
       "\n",
       "   field_degrees_total  uni_degrees_within_gender  uni_degrees_total  \n",
       "0                 2354                     983227            1991889  \n",
       "1                 2222                     980838            2004285  \n",
       "2                 1974                     975329            2008295  \n",
       "3                 1705                    1036892            2163263  \n",
       "4                 1644                    1112371            2324652  "
      ]
     },
     "execution_count": 58,
     "metadata": {},
     "output_type": "execute_result"
    }
   ],
   "source": [
    "df = engine.field_totals_by_grouping(grouping='gender', query_filters=qf, taxonomy=FieldTaxonomy.cip, by_year=True)\n",
    "df = df.reset_index()\n",
    "df.head()"
   ]
  },
  {
   "cell_type": "code",
   "execution_count": 59,
   "id": "a493e9b2-1b19-4b14-81a2-9bbd0d91d1a4",
   "metadata": {},
   "outputs": [
    {
     "data": {
      "text/html": [
       "<div>\n",
       "<style scoped>\n",
       "    .dataframe tbody tr th:only-of-type {\n",
       "        vertical-align: middle;\n",
       "    }\n",
       "\n",
       "    .dataframe tbody tr th {\n",
       "        vertical-align: top;\n",
       "    }\n",
       "\n",
       "    .dataframe thead th {\n",
       "        text-align: right;\n",
       "    }\n",
       "</style>\n",
       "<table border=\"1\" class=\"dataframe\">\n",
       "  <thead>\n",
       "    <tr style=\"text-align: right;\">\n",
       "      <th></th>\n",
       "      <th>cip_title</th>\n",
       "      <th>ncses_sci_group</th>\n",
       "      <th>ncses_field_group</th>\n",
       "      <th>ncses_detailed_field_group</th>\n",
       "      <th>nsf_broad_field</th>\n",
       "      <th>dhs_stem</th>\n",
       "    </tr>\n",
       "    <tr>\n",
       "      <th>cip2020</th>\n",
       "      <th></th>\n",
       "      <th></th>\n",
       "      <th></th>\n",
       "      <th></th>\n",
       "      <th></th>\n",
       "      <th></th>\n",
       "    </tr>\n",
       "  </thead>\n",
       "  <tbody>\n",
       "    <tr>\n",
       "      <th>60.0106</th>\n",
       "      <td>Unknown</td>\n",
       "      <td>Not categorized in NCSES crosswalk</td>\n",
       "      <td>Not categorized in NCSES crosswalk</td>\n",
       "      <td>Not categorized in NCSES crosswalk</td>\n",
       "      <td>Non-science and engineering</td>\n",
       "      <td>False</td>\n",
       "    </tr>\n",
       "    <tr>\n",
       "      <th>61.0213</th>\n",
       "      <td>Unknown</td>\n",
       "      <td>Not categorized in NCSES crosswalk</td>\n",
       "      <td>Not categorized in NCSES crosswalk</td>\n",
       "      <td>Not categorized in NCSES crosswalk</td>\n",
       "      <td>Non-science and engineering</td>\n",
       "      <td>False</td>\n",
       "    </tr>\n",
       "    <tr>\n",
       "      <th>60.0105</th>\n",
       "      <td>Unknown</td>\n",
       "      <td>Not categorized in NCSES crosswalk</td>\n",
       "      <td>Not categorized in NCSES crosswalk</td>\n",
       "      <td>Not categorized in NCSES crosswalk</td>\n",
       "      <td>Non-science and engineering</td>\n",
       "      <td>False</td>\n",
       "    </tr>\n",
       "    <tr>\n",
       "      <th>95.0000</th>\n",
       "      <td>Unknown</td>\n",
       "      <td>Not categorized in NCSES crosswalk</td>\n",
       "      <td>Not categorized in NCSES crosswalk</td>\n",
       "      <td>Not categorized in NCSES crosswalk</td>\n",
       "      <td>Non-science and engineering</td>\n",
       "      <td>False</td>\n",
       "    </tr>\n",
       "    <tr>\n",
       "      <th>60.0107</th>\n",
       "      <td>Unknown</td>\n",
       "      <td>Not categorized in NCSES crosswalk</td>\n",
       "      <td>Not categorized in NCSES crosswalk</td>\n",
       "      <td>Not categorized in NCSES crosswalk</td>\n",
       "      <td>Non-science and engineering</td>\n",
       "      <td>False</td>\n",
       "    </tr>\n",
       "    <tr>\n",
       "      <th>...</th>\n",
       "      <td>...</td>\n",
       "      <td>...</td>\n",
       "      <td>...</td>\n",
       "      <td>...</td>\n",
       "      <td>...</td>\n",
       "      <td>...</td>\n",
       "    </tr>\n",
       "    <tr>\n",
       "      <th>07.0710</th>\n",
       "      <td>Unknown</td>\n",
       "      <td>Not categorized in NCSES crosswalk</td>\n",
       "      <td>Not categorized in NCSES crosswalk</td>\n",
       "      <td>Not categorized in NCSES crosswalk</td>\n",
       "      <td>Non-science and engineering</td>\n",
       "      <td>False</td>\n",
       "    </tr>\n",
       "    <tr>\n",
       "      <th>49.0103</th>\n",
       "      <td>Unknown</td>\n",
       "      <td>Not categorized in NCSES crosswalk</td>\n",
       "      <td>Not categorized in NCSES crosswalk</td>\n",
       "      <td>Not categorized in NCSES crosswalk</td>\n",
       "      <td>Non-science and engineering</td>\n",
       "      <td>False</td>\n",
       "    </tr>\n",
       "    <tr>\n",
       "      <th>61.0501</th>\n",
       "      <td>Unknown</td>\n",
       "      <td>Not categorized in NCSES crosswalk</td>\n",
       "      <td>Not categorized in NCSES crosswalk</td>\n",
       "      <td>Not categorized in NCSES crosswalk</td>\n",
       "      <td>Non-science and engineering</td>\n",
       "      <td>False</td>\n",
       "    </tr>\n",
       "    <tr>\n",
       "      <th>18.2101</th>\n",
       "      <td>Unknown</td>\n",
       "      <td>Not categorized in NCSES crosswalk</td>\n",
       "      <td>Not categorized in NCSES crosswalk</td>\n",
       "      <td>Not categorized in NCSES crosswalk</td>\n",
       "      <td>Non-science and engineering</td>\n",
       "      <td>False</td>\n",
       "    </tr>\n",
       "    <tr>\n",
       "      <th>02.0304</th>\n",
       "      <td>Unknown</td>\n",
       "      <td>Not categorized in NCSES crosswalk</td>\n",
       "      <td>Not categorized in NCSES crosswalk</td>\n",
       "      <td>Not categorized in NCSES crosswalk</td>\n",
       "      <td>Non-science and engineering</td>\n",
       "      <td>False</td>\n",
       "    </tr>\n",
       "  </tbody>\n",
       "</table>\n",
       "<p>150 rows × 6 columns</p>\n",
       "</div>"
      ],
      "text/plain": [
       "        cip_title                     ncses_sci_group  \\\n",
       "cip2020                                                 \n",
       "60.0106   Unknown  Not categorized in NCSES crosswalk   \n",
       "61.0213   Unknown  Not categorized in NCSES crosswalk   \n",
       "60.0105   Unknown  Not categorized in NCSES crosswalk   \n",
       "95.0000   Unknown  Not categorized in NCSES crosswalk   \n",
       "60.0107   Unknown  Not categorized in NCSES crosswalk   \n",
       "...           ...                                 ...   \n",
       "07.0710   Unknown  Not categorized in NCSES crosswalk   \n",
       "49.0103   Unknown  Not categorized in NCSES crosswalk   \n",
       "61.0501   Unknown  Not categorized in NCSES crosswalk   \n",
       "18.2101   Unknown  Not categorized in NCSES crosswalk   \n",
       "02.0304   Unknown  Not categorized in NCSES crosswalk   \n",
       "\n",
       "                          ncses_field_group  \\\n",
       "cip2020                                       \n",
       "60.0106  Not categorized in NCSES crosswalk   \n",
       "61.0213  Not categorized in NCSES crosswalk   \n",
       "60.0105  Not categorized in NCSES crosswalk   \n",
       "95.0000  Not categorized in NCSES crosswalk   \n",
       "60.0107  Not categorized in NCSES crosswalk   \n",
       "...                                     ...   \n",
       "07.0710  Not categorized in NCSES crosswalk   \n",
       "49.0103  Not categorized in NCSES crosswalk   \n",
       "61.0501  Not categorized in NCSES crosswalk   \n",
       "18.2101  Not categorized in NCSES crosswalk   \n",
       "02.0304  Not categorized in NCSES crosswalk   \n",
       "\n",
       "                 ncses_detailed_field_group              nsf_broad_field  \\\n",
       "cip2020                                                                    \n",
       "60.0106  Not categorized in NCSES crosswalk  Non-science and engineering   \n",
       "61.0213  Not categorized in NCSES crosswalk  Non-science and engineering   \n",
       "60.0105  Not categorized in NCSES crosswalk  Non-science and engineering   \n",
       "95.0000  Not categorized in NCSES crosswalk  Non-science and engineering   \n",
       "60.0107  Not categorized in NCSES crosswalk  Non-science and engineering   \n",
       "...                                     ...                          ...   \n",
       "07.0710  Not categorized in NCSES crosswalk  Non-science and engineering   \n",
       "49.0103  Not categorized in NCSES crosswalk  Non-science and engineering   \n",
       "61.0501  Not categorized in NCSES crosswalk  Non-science and engineering   \n",
       "18.2101  Not categorized in NCSES crosswalk  Non-science and engineering   \n",
       "02.0304  Not categorized in NCSES crosswalk  Non-science and engineering   \n",
       "\n",
       "         dhs_stem  \n",
       "cip2020            \n",
       "60.0106     False  \n",
       "61.0213     False  \n",
       "60.0105     False  \n",
       "95.0000     False  \n",
       "60.0107     False  \n",
       "...           ...  \n",
       "07.0710     False  \n",
       "49.0103     False  \n",
       "61.0501     False  \n",
       "18.2101     False  \n",
       "02.0304     False  \n",
       "\n",
       "[150 rows x 6 columns]"
      ]
     },
     "execution_count": 59,
     "metadata": {},
     "output_type": "execute_result"
    }
   ],
   "source": [
    "cipdf = engine.get_cip_table()\n",
    "cipdf[cipdf['cip_title'] == \"Unknown\"]"
   ]
  },
  {
   "cell_type": "code",
   "execution_count": 60,
   "id": "3efcc2f0-dc21-4226-93a8-4b8e3300dd9e",
   "metadata": {},
   "outputs": [
    {
     "data": {
      "text/html": [
       "<div>\n",
       "<style scoped>\n",
       "    .dataframe tbody tr th:only-of-type {\n",
       "        vertical-align: middle;\n",
       "    }\n",
       "\n",
       "    .dataframe tbody tr th {\n",
       "        vertical-align: top;\n",
       "    }\n",
       "\n",
       "    .dataframe thead th {\n",
       "        text-align: right;\n",
       "    }\n",
       "</style>\n",
       "<table border=\"1\" class=\"dataframe\">\n",
       "  <thead>\n",
       "    <tr style=\"text-align: right;\">\n",
       "      <th></th>\n",
       "      <th>FieldTaxonomy.cip</th>\n",
       "      <th>gender</th>\n",
       "      <th>year</th>\n",
       "      <th>field_degrees_within_gender</th>\n",
       "      <th>field_degrees_total</th>\n",
       "      <th>uni_degrees_within_gender</th>\n",
       "      <th>uni_degrees_total</th>\n",
       "      <th>cip_title</th>\n",
       "      <th>ncses_sci_group</th>\n",
       "      <th>ncses_field_group</th>\n",
       "      <th>ncses_detailed_field_group</th>\n",
       "      <th>nsf_broad_field</th>\n",
       "      <th>dhs_stem</th>\n",
       "    </tr>\n",
       "  </thead>\n",
       "  <tbody>\n",
       "    <tr>\n",
       "      <th>0</th>\n",
       "      <td>01.0000</td>\n",
       "      <td>men</td>\n",
       "      <td>1984</td>\n",
       "      <td>1779</td>\n",
       "      <td>2354</td>\n",
       "      <td>983227</td>\n",
       "      <td>1991889</td>\n",
       "      <td>Agriculture, Agriculture Operations And Relate...</td>\n",
       "      <td>Science and engineering</td>\n",
       "      <td>Life Sciences</td>\n",
       "      <td>Agricultural Sciences</td>\n",
       "      <td>Agricultural and biological sciences</td>\n",
       "      <td>False</td>\n",
       "    </tr>\n",
       "    <tr>\n",
       "      <th>1</th>\n",
       "      <td>01.0000</td>\n",
       "      <td>men</td>\n",
       "      <td>1985</td>\n",
       "      <td>1649</td>\n",
       "      <td>2222</td>\n",
       "      <td>980838</td>\n",
       "      <td>2004285</td>\n",
       "      <td>Agriculture, Agriculture Operations And Relate...</td>\n",
       "      <td>Science and engineering</td>\n",
       "      <td>Life Sciences</td>\n",
       "      <td>Agricultural Sciences</td>\n",
       "      <td>Agricultural and biological sciences</td>\n",
       "      <td>False</td>\n",
       "    </tr>\n",
       "    <tr>\n",
       "      <th>2</th>\n",
       "      <td>01.0000</td>\n",
       "      <td>men</td>\n",
       "      <td>1986</td>\n",
       "      <td>1451</td>\n",
       "      <td>1974</td>\n",
       "      <td>975329</td>\n",
       "      <td>2008295</td>\n",
       "      <td>Agriculture, Agriculture Operations And Relate...</td>\n",
       "      <td>Science and engineering</td>\n",
       "      <td>Life Sciences</td>\n",
       "      <td>Agricultural Sciences</td>\n",
       "      <td>Agricultural and biological sciences</td>\n",
       "      <td>False</td>\n",
       "    </tr>\n",
       "    <tr>\n",
       "      <th>3</th>\n",
       "      <td>01.0000</td>\n",
       "      <td>men</td>\n",
       "      <td>1987</td>\n",
       "      <td>1218</td>\n",
       "      <td>1705</td>\n",
       "      <td>1036892</td>\n",
       "      <td>2163263</td>\n",
       "      <td>Agriculture, Agriculture Operations And Relate...</td>\n",
       "      <td>Science and engineering</td>\n",
       "      <td>Life Sciences</td>\n",
       "      <td>Agricultural Sciences</td>\n",
       "      <td>Agricultural and biological sciences</td>\n",
       "      <td>False</td>\n",
       "    </tr>\n",
       "    <tr>\n",
       "      <th>4</th>\n",
       "      <td>01.0000</td>\n",
       "      <td>men</td>\n",
       "      <td>1988</td>\n",
       "      <td>1192</td>\n",
       "      <td>1644</td>\n",
       "      <td>1112371</td>\n",
       "      <td>2324652</td>\n",
       "      <td>Agriculture, Agriculture Operations And Relate...</td>\n",
       "      <td>Science and engineering</td>\n",
       "      <td>Life Sciences</td>\n",
       "      <td>Agricultural Sciences</td>\n",
       "      <td>Agricultural and biological sciences</td>\n",
       "      <td>False</td>\n",
       "    </tr>\n",
       "  </tbody>\n",
       "</table>\n",
       "</div>"
      ],
      "text/plain": [
       "  FieldTaxonomy.cip gender  year  field_degrees_within_gender  \\\n",
       "0           01.0000    men  1984                         1779   \n",
       "1           01.0000    men  1985                         1649   \n",
       "2           01.0000    men  1986                         1451   \n",
       "3           01.0000    men  1987                         1218   \n",
       "4           01.0000    men  1988                         1192   \n",
       "\n",
       "   field_degrees_total  uni_degrees_within_gender  uni_degrees_total  \\\n",
       "0                 2354                     983227            1991889   \n",
       "1                 2222                     980838            2004285   \n",
       "2                 1974                     975329            2008295   \n",
       "3                 1705                    1036892            2163263   \n",
       "4                 1644                    1112371            2324652   \n",
       "\n",
       "                                           cip_title          ncses_sci_group  \\\n",
       "0  Agriculture, Agriculture Operations And Relate...  Science and engineering   \n",
       "1  Agriculture, Agriculture Operations And Relate...  Science and engineering   \n",
       "2  Agriculture, Agriculture Operations And Relate...  Science and engineering   \n",
       "3  Agriculture, Agriculture Operations And Relate...  Science and engineering   \n",
       "4  Agriculture, Agriculture Operations And Relate...  Science and engineering   \n",
       "\n",
       "  ncses_field_group ncses_detailed_field_group  \\\n",
       "0     Life Sciences      Agricultural Sciences   \n",
       "1     Life Sciences      Agricultural Sciences   \n",
       "2     Life Sciences      Agricultural Sciences   \n",
       "3     Life Sciences      Agricultural Sciences   \n",
       "4     Life Sciences      Agricultural Sciences   \n",
       "\n",
       "                        nsf_broad_field  dhs_stem  \n",
       "0  Agricultural and biological sciences     False  \n",
       "1  Agricultural and biological sciences     False  \n",
       "2  Agricultural and biological sciences     False  \n",
       "3  Agricultural and biological sciences     False  \n",
       "4  Agricultural and biological sciences     False  "
      ]
     },
     "execution_count": 60,
     "metadata": {},
     "output_type": "execute_result"
    }
   ],
   "source": [
    "df_w_cip = pd.merge(\n",
    "    df, cipdf,\n",
    "    left_on=FieldTaxonomy.cip, left_index=False,\n",
    "    right_index=True, \n",
    "    validate='many_to_one'\n",
    ")\n",
    "df_w_cip.head()"
   ]
  },
  {
   "cell_type": "code",
   "execution_count": 61,
   "id": "826b15e9-40c2-4f48-a37c-42c94ecab418",
   "metadata": {},
   "outputs": [
    {
     "data": {
      "text/plain": [
       "year\n",
       "1984    123\n",
       "1985    132\n",
       "1986    129\n",
       "1987     52\n",
       "1988     41\n",
       "1989     42\n",
       "1990     48\n",
       "1991     39\n",
       "1992      1\n",
       "1993      1\n",
       "1994      1\n",
       "dtype: int64"
      ]
     },
     "execution_count": 61,
     "metadata": {},
     "output_type": "execute_result"
    }
   ],
   "source": [
    "# How many unique unclassified CIPs per year?\n",
    "df_w_cip[df_w_cip['cip_title'] == \"Unknown\"][['year', FieldTaxonomy.cip]].drop_duplicates().groupby('year').size()"
   ]
  },
  {
   "cell_type": "code",
   "execution_count": 62,
   "id": "e5354535-c49d-4922-9099-5a7a2b3eaf7f",
   "metadata": {},
   "outputs": [
    {
     "data": {
      "text/plain": [
       "year\n",
       "1984    806\n",
       "1985    819\n",
       "1986    814\n",
       "1987    754\n",
       "1988    742\n",
       "1989    744\n",
       "1990    747\n",
       "1991    739\n",
       "1992    829\n",
       "1993    829\n",
       "1994    825\n",
       "dtype: int64"
      ]
     },
     "execution_count": 62,
     "metadata": {},
     "output_type": "execute_result"
    }
   ],
   "source": [
    "# How many total CIPs per year?\n",
    "df_w_cip[['year', FieldTaxonomy.cip]].drop_duplicates().groupby('year').size()"
   ]
  },
  {
   "cell_type": "markdown",
   "id": "f101a740-93d4-4247-9f19-d17be8b3df01",
   "metadata": {},
   "source": [
    "Ok so for earlier years it's like half of the CIPs that aren't classified.\n",
    "\n",
    "We need to figure out why these CIPs aren't being classified. Likely becuase they're not in the 85 -> 90 classifier?"
   ]
  },
  {
   "cell_type": "code",
   "execution_count": 63,
   "id": "f34ebfea-ecf4-465e-bd35-b40f55c1574a",
   "metadata": {},
   "outputs": [
    {
     "data": {
      "text/html": [
       "<div>\n",
       "<style scoped>\n",
       "    .dataframe tbody tr th:only-of-type {\n",
       "        vertical-align: middle;\n",
       "    }\n",
       "\n",
       "    .dataframe tbody tr th {\n",
       "        vertical-align: top;\n",
       "    }\n",
       "\n",
       "    .dataframe thead th {\n",
       "        text-align: right;\n",
       "    }\n",
       "</style>\n",
       "<table border=\"1\" class=\"dataframe\">\n",
       "  <thead>\n",
       "    <tr style=\"text-align: right;\">\n",
       "      <th></th>\n",
       "      <th>year</th>\n",
       "      <th>FieldTaxonomy.cip</th>\n",
       "    </tr>\n",
       "  </thead>\n",
       "  <tbody>\n",
       "    <tr>\n",
       "      <th>1027</th>\n",
       "      <td>1984</td>\n",
       "      <td>02.0207</td>\n",
       "    </tr>\n",
       "    <tr>\n",
       "      <th>1028</th>\n",
       "      <td>1985</td>\n",
       "      <td>02.0207</td>\n",
       "    </tr>\n",
       "    <tr>\n",
       "      <th>1029</th>\n",
       "      <td>1986</td>\n",
       "      <td>02.0207</td>\n",
       "    </tr>\n",
       "    <tr>\n",
       "      <th>1033</th>\n",
       "      <td>1984</td>\n",
       "      <td>02.0302</td>\n",
       "    </tr>\n",
       "    <tr>\n",
       "      <th>1034</th>\n",
       "      <td>1985</td>\n",
       "      <td>02.0302</td>\n",
       "    </tr>\n",
       "  </tbody>\n",
       "</table>\n",
       "</div>"
      ],
      "text/plain": [
       "      year FieldTaxonomy.cip\n",
       "1027  1984           02.0207\n",
       "1028  1985           02.0207\n",
       "1029  1986           02.0207\n",
       "1033  1984           02.0302\n",
       "1034  1985           02.0302"
      ]
     },
     "execution_count": 63,
     "metadata": {},
     "output_type": "execute_result"
    }
   ],
   "source": [
    "unknown_cips = df_w_cip[df_w_cip['cip_title'] == \"Unknown\"][['year', FieldTaxonomy.cip]].drop_duplicates()\n",
    "unknown_cips.head()"
   ]
  },
  {
   "cell_type": "code",
   "execution_count": 64,
   "id": "d563b876-432f-4aa7-ba16-fd645eb182af",
   "metadata": {},
   "outputs": [
    {
     "data": {
      "text/html": [
       "<div>\n",
       "<style scoped>\n",
       "    .dataframe tbody tr th:only-of-type {\n",
       "        vertical-align: middle;\n",
       "    }\n",
       "\n",
       "    .dataframe tbody tr th {\n",
       "        vertical-align: top;\n",
       "    }\n",
       "\n",
       "    .dataframe thead th {\n",
       "        text-align: right;\n",
       "    }\n",
       "</style>\n",
       "<table border=\"1\" class=\"dataframe\">\n",
       "  <thead>\n",
       "    <tr style=\"text-align: right;\">\n",
       "      <th></th>\n",
       "      <th>year</th>\n",
       "      <th>FieldTaxonomy.cip</th>\n",
       "    </tr>\n",
       "  </thead>\n",
       "  <tbody>\n",
       "  </tbody>\n",
       "</table>\n",
       "</div>"
      ],
      "text/plain": [
       "Empty DataFrame\n",
       "Columns: [year, FieldTaxonomy.cip]\n",
       "Index: []"
      ]
     },
     "execution_count": 64,
     "metadata": {},
     "output_type": "execute_result"
    }
   ],
   "source": [
    "unknown_cips[unknown_cips[FieldTaxonomy.cip] == \"01.0202\"]"
   ]
  },
  {
   "attachments": {},
   "cell_type": "markdown",
   "id": "c2e62621-8437-42a0-9ff4-a382db85d0ca",
   "metadata": {},
   "source": [
    "01.0202\n",
    "- listed as \"10202 - Agricultural Electrification Power and Controls\" in the 1985 data dictionary.\n",
    "- Only has one degree?\n",
    "\n",
    "Let's see how many _students_ these unknowns represent per year"
   ]
  },
  {
   "cell_type": "code",
   "execution_count": 65,
   "id": "7017b472-127e-43f8-aeb9-7772fdc6e2cf",
   "metadata": {},
   "outputs": [
    {
     "data": {
      "text/plain": [
       "year\n",
       "1984     20380\n",
       "1985     21083\n",
       "1986     23703\n",
       "1987      3981\n",
       "1988     80657\n",
       "1989    138020\n",
       "1990     30948\n",
       "1991     69562\n",
       "1992     51136\n",
       "1993     30515\n",
       "1994     20746\n",
       "Name: field_degrees_total, dtype: int64"
      ]
     },
     "execution_count": 65,
     "metadata": {},
     "output_type": "execute_result"
    }
   ],
   "source": [
    "df_w_cip[df_w_cip['cip_title'] == \"Unknown\"][['year', FieldTaxonomy.cip, \"field_degrees_total\"]].drop_duplicates().groupby('year')[\"field_degrees_total\"].sum()"
   ]
  },
  {
   "cell_type": "markdown",
   "id": "1b16cb27-a988-4314-9619-97b72008075e",
   "metadata": {},
   "source": [
    "Uhhh wait is that _all_ of the degrees in 1984?"
   ]
  },
  {
   "cell_type": "code",
   "execution_count": 66,
   "id": "f1f7505d-2a82-4b41-bdd5-e771ca1105a1",
   "metadata": {},
   "outputs": [
    {
     "data": {
      "text/html": [
       "<div>\n",
       "<style scoped>\n",
       "    .dataframe tbody tr th:only-of-type {\n",
       "        vertical-align: middle;\n",
       "    }\n",
       "\n",
       "    .dataframe tbody tr th {\n",
       "        vertical-align: top;\n",
       "    }\n",
       "\n",
       "    .dataframe thead th {\n",
       "        text-align: right;\n",
       "    }\n",
       "</style>\n",
       "<table border=\"1\" class=\"dataframe\">\n",
       "  <thead>\n",
       "    <tr style=\"text-align: right;\">\n",
       "      <th></th>\n",
       "      <th>year</th>\n",
       "      <th>uni_degrees_total</th>\n",
       "    </tr>\n",
       "  </thead>\n",
       "  <tbody>\n",
       "    <tr>\n",
       "      <th>0</th>\n",
       "      <td>1984</td>\n",
       "      <td>1991889</td>\n",
       "    </tr>\n",
       "    <tr>\n",
       "      <th>1</th>\n",
       "      <td>1985</td>\n",
       "      <td>2004285</td>\n",
       "    </tr>\n",
       "    <tr>\n",
       "      <th>2</th>\n",
       "      <td>1986</td>\n",
       "      <td>2008295</td>\n",
       "    </tr>\n",
       "    <tr>\n",
       "      <th>3</th>\n",
       "      <td>1987</td>\n",
       "      <td>2163263</td>\n",
       "    </tr>\n",
       "    <tr>\n",
       "      <th>4</th>\n",
       "      <td>1988</td>\n",
       "      <td>2324652</td>\n",
       "    </tr>\n",
       "    <tr>\n",
       "      <th>5</th>\n",
       "      <td>1989</td>\n",
       "      <td>2412546</td>\n",
       "    </tr>\n",
       "    <tr>\n",
       "      <th>6</th>\n",
       "      <td>1990</td>\n",
       "      <td>2320375</td>\n",
       "    </tr>\n",
       "    <tr>\n",
       "      <th>7</th>\n",
       "      <td>1991</td>\n",
       "      <td>2408979</td>\n",
       "    </tr>\n",
       "    <tr>\n",
       "      <th>8</th>\n",
       "      <td>1992</td>\n",
       "      <td>2550460</td>\n",
       "    </tr>\n",
       "    <tr>\n",
       "      <th>9</th>\n",
       "      <td>1993</td>\n",
       "      <td>2616641</td>\n",
       "    </tr>\n",
       "    <tr>\n",
       "      <th>10</th>\n",
       "      <td>1994</td>\n",
       "      <td>2682879</td>\n",
       "    </tr>\n",
       "  </tbody>\n",
       "</table>\n",
       "</div>"
      ],
      "text/plain": [
       "    year  uni_degrees_total\n",
       "0   1984            1991889\n",
       "1   1985            2004285\n",
       "2   1986            2008295\n",
       "3   1987            2163263\n",
       "4   1988            2324652\n",
       "5   1989            2412546\n",
       "6   1990            2320375\n",
       "7   1991            2408979\n",
       "8   1992            2550460\n",
       "9   1993            2616641\n",
       "10  1994            2682879"
      ]
     },
     "execution_count": 66,
     "metadata": {},
     "output_type": "execute_result"
    }
   ],
   "source": [
    "df_w_cip[['year', 'uni_degrees_total']].drop_duplicates()"
   ]
  },
  {
   "cell_type": "code",
   "execution_count": 67,
   "id": "65e09ab6-d81c-4c60-bc88-cc198cb9bc02",
   "metadata": {},
   "outputs": [
    {
     "data": {
      "text/html": [
       "<div>\n",
       "<style scoped>\n",
       "    .dataframe tbody tr th:only-of-type {\n",
       "        vertical-align: middle;\n",
       "    }\n",
       "\n",
       "    .dataframe tbody tr th {\n",
       "        vertical-align: top;\n",
       "    }\n",
       "\n",
       "    .dataframe thead th {\n",
       "        text-align: right;\n",
       "    }\n",
       "</style>\n",
       "<table border=\"1\" class=\"dataframe\">\n",
       "  <thead>\n",
       "    <tr style=\"text-align: right;\">\n",
       "      <th></th>\n",
       "      <th>year</th>\n",
       "      <th>uni_degrees_total</th>\n",
       "      <th>unknown_cip_total</th>\n",
       "      <th>fraction_unknown_cips</th>\n",
       "    </tr>\n",
       "  </thead>\n",
       "  <tbody>\n",
       "    <tr>\n",
       "      <th>0</th>\n",
       "      <td>1984</td>\n",
       "      <td>1991889</td>\n",
       "      <td>20380</td>\n",
       "      <td>0.010231</td>\n",
       "    </tr>\n",
       "    <tr>\n",
       "      <th>1</th>\n",
       "      <td>1985</td>\n",
       "      <td>2004285</td>\n",
       "      <td>21083</td>\n",
       "      <td>0.010519</td>\n",
       "    </tr>\n",
       "    <tr>\n",
       "      <th>2</th>\n",
       "      <td>1986</td>\n",
       "      <td>2008295</td>\n",
       "      <td>23703</td>\n",
       "      <td>0.011803</td>\n",
       "    </tr>\n",
       "    <tr>\n",
       "      <th>3</th>\n",
       "      <td>1987</td>\n",
       "      <td>2163263</td>\n",
       "      <td>3981</td>\n",
       "      <td>0.001840</td>\n",
       "    </tr>\n",
       "    <tr>\n",
       "      <th>4</th>\n",
       "      <td>1988</td>\n",
       "      <td>2324652</td>\n",
       "      <td>80657</td>\n",
       "      <td>0.034696</td>\n",
       "    </tr>\n",
       "    <tr>\n",
       "      <th>5</th>\n",
       "      <td>1989</td>\n",
       "      <td>2412546</td>\n",
       "      <td>138020</td>\n",
       "      <td>0.057209</td>\n",
       "    </tr>\n",
       "    <tr>\n",
       "      <th>6</th>\n",
       "      <td>1990</td>\n",
       "      <td>2320375</td>\n",
       "      <td>30948</td>\n",
       "      <td>0.013337</td>\n",
       "    </tr>\n",
       "    <tr>\n",
       "      <th>7</th>\n",
       "      <td>1991</td>\n",
       "      <td>2408979</td>\n",
       "      <td>69562</td>\n",
       "      <td>0.028876</td>\n",
       "    </tr>\n",
       "    <tr>\n",
       "      <th>8</th>\n",
       "      <td>1992</td>\n",
       "      <td>2550460</td>\n",
       "      <td>51136</td>\n",
       "      <td>0.020050</td>\n",
       "    </tr>\n",
       "    <tr>\n",
       "      <th>9</th>\n",
       "      <td>1993</td>\n",
       "      <td>2616641</td>\n",
       "      <td>30515</td>\n",
       "      <td>0.011662</td>\n",
       "    </tr>\n",
       "    <tr>\n",
       "      <th>10</th>\n",
       "      <td>1994</td>\n",
       "      <td>2682879</td>\n",
       "      <td>20746</td>\n",
       "      <td>0.007733</td>\n",
       "    </tr>\n",
       "  </tbody>\n",
       "</table>\n",
       "</div>"
      ],
      "text/plain": [
       "    year  uni_degrees_total  unknown_cip_total  fraction_unknown_cips\n",
       "0   1984            1991889              20380               0.010231\n",
       "1   1985            2004285              21083               0.010519\n",
       "2   1986            2008295              23703               0.011803\n",
       "3   1987            2163263               3981               0.001840\n",
       "4   1988            2324652              80657               0.034696\n",
       "5   1989            2412546             138020               0.057209\n",
       "6   1990            2320375              30948               0.013337\n",
       "7   1991            2408979              69562               0.028876\n",
       "8   1992            2550460              51136               0.020050\n",
       "9   1993            2616641              30515               0.011662\n",
       "10  1994            2682879              20746               0.007733"
      ]
     },
     "execution_count": 67,
     "metadata": {},
     "output_type": "execute_result"
    }
   ],
   "source": [
    "proportion_missing = pd.merge(\n",
    "    df_w_cip[['year', 'uni_degrees_total']].drop_duplicates(),\n",
    "    df_w_cip[df_w_cip['cip_title'] == \"Unknown\"][['year', FieldTaxonomy.cip, \"field_degrees_total\"]].drop_duplicates().groupby('year')[\"field_degrees_total\"].sum(),\n",
    "    right_index=True,\n",
    "    left_on='year'\n",
    ").rename(columns={'field_degrees_total': 'unknown_cip_total'})\n",
    "\n",
    "proportion_missing['fraction_unknown_cips'] = proportion_missing['unknown_cip_total'] / proportion_missing['uni_degrees_total']\n",
    "\n",
    "proportion_missing"
   ]
  },
  {
   "cell_type": "markdown",
   "id": "06e8bfdf-174a-4cb8-bef0-05a3578636be",
   "metadata": {},
   "source": [
    "Ok, let's start with the biggest unknowns for 84-86 and see if we can find them."
   ]
  },
  {
   "cell_type": "code",
   "execution_count": 68,
   "id": "fe5361ae-ec96-441e-856c-836d5418a03b",
   "metadata": {},
   "outputs": [
    {
     "name": "stderr",
     "output_type": "stream",
     "text": [
      "/var/folders/87/tp5jbk1x7zx0c0tx8zqvrxjr0000gp/T/ipykernel_70343/937130514.py:5: FutureWarning: The default of observed=False is deprecated and will be changed to True in a future version of pandas. Pass observed=False to retain current behavior or observed=True to adopt the future default and silence this warning.\n",
      "  .groupby([FieldTaxonomy.cip])\n"
     ]
    },
    {
     "data": {
      "text/plain": [
       "FieldTaxonomy.cip\n",
       "07.0608    27320\n",
       "50.0801    14874\n",
       "47.0602    14642\n",
       "20.0102     9914\n",
       "15.0604     6398\n",
       "           ...  \n",
       "15.1701        0\n",
       "15.1501        0\n",
       "15.1399        0\n",
       "15.1306        0\n",
       "95.9500        0\n",
       "Name: field_degrees_total, Length: 1688, dtype: int64"
      ]
     },
     "execution_count": 68,
     "metadata": {},
     "output_type": "execute_result"
    }
   ],
   "source": [
    "(\n",
    "    df_w_cip[\n",
    "        (df_w_cip['cip_title'] == \"Unknown\") & (df_w_cip['year'].isin([1984, 1985, 1986]))\n",
    "    ]\n",
    "    .groupby([FieldTaxonomy.cip])\n",
    "    ['field_degrees_total']\n",
    "    .sum()\n",
    ").sort_values(ascending=False)"
   ]
  },
  {
   "cell_type": "code",
   "execution_count": 69,
   "id": "4c258de2-af4e-47ff-8d8e-23ccf1e0218a",
   "metadata": {},
   "outputs": [
    {
     "name": "stderr",
     "output_type": "stream",
     "text": [
      "/var/folders/87/tp5jbk1x7zx0c0tx8zqvrxjr0000gp/T/ipykernel_70343/1231911568.py:6: FutureWarning: The default of observed=False is deprecated and will be changed to True in a future version of pandas. Pass observed=False to retain current behavior or observed=True to adopt the future default and silence this warning.\n",
      "  .groupby([FieldTaxonomy.cip])\n"
     ]
    },
    {
     "data": {
      "text/plain": [
       "FieldTaxonomy.cip\n",
       "95.0000    176038\n",
       "20.0102     13134\n",
       "20.0101      1878\n",
       "61.2601      1428\n",
       "20.0109      1230\n",
       "            ...  \n",
       "15.0799         0\n",
       "15.0702         0\n",
       "15.0701         0\n",
       "15.0699         0\n",
       "95.9500         0\n",
       "Name: field_degrees_total, Length: 1688, dtype: int64"
      ]
     },
     "execution_count": 69,
     "metadata": {},
     "output_type": "execute_result"
    }
   ],
   "source": [
    "# Now 1990 is the worst offender, what's up?\n",
    "(\n",
    "    df_w_cip[\n",
    "        (df_w_cip['cip_title'] == \"Unknown\") & (df_w_cip['year'].isin([1990, 1991]))\n",
    "    ]\n",
    "    .groupby([FieldTaxonomy.cip])\n",
    "    ['field_degrees_total']\n",
    "    .sum()\n",
    ").sort_values(ascending=False)"
   ]
  },
  {
   "cell_type": "markdown",
   "id": "125ed147-4f74-4d37-b82e-166e0598fc0d",
   "metadata": {},
   "source": [
    "# 2/21 update:\n",
    "\n",
    "Uhhh... 06.0401 is back to causing trouble. I've gotten all the other years way down, need to figure out what's up with the 1990 and 1991 CIPs but it's too late and my brain is tired."
   ]
  },
  {
   "cell_type": "code",
   "execution_count": null,
   "id": "d8d90847-c086-46d2-82d2-70ee53ced232",
   "metadata": {},
   "outputs": [],
   "source": []
  },
  {
   "cell_type": "code",
   "execution_count": null,
   "id": "7f8ab07e-ca84-4e33-b6da-069846e42e42",
   "metadata": {},
   "outputs": [],
   "source": []
  },
  {
   "cell_type": "code",
   "execution_count": null,
   "id": "3f743f97-7ae3-4f73-94e3-881f5ccb5dfa",
   "metadata": {},
   "outputs": [],
   "source": []
  },
  {
   "attachments": {},
   "cell_type": "markdown",
   "id": "44c7e40a-4f45-464a-9441-db6b79b45cc1",
   "metadata": {},
   "source": [
    "06.0401 is in the CIP85toCIP90 crosswalk! \n",
    "\n",
    "`06.0401\tBusiness Administration\t52.0201\tBusiness Administration & Management, General`"
   ]
  },
  {
   "cell_type": "markdown",
   "id": "23f06344-0d09-4ab7-9008-3b09bb0f5b22",
   "metadata": {},
   "source": [
    "Oh, we just weren't reading in that crosswalk. Let's try adding that to the code and then...\n",
    "\n",
    "Hm, now 06.0401 is being mapped correctly to its 1990 CIP code of 52.0201 but nothing after that."
   ]
  },
  {
   "cell_type": "code",
   "execution_count": 70,
   "id": "ccc8e0bb-c2e4-4ac5-8f48-6ee3941466eb",
   "metadata": {},
   "outputs": [
    {
     "data": {
      "text/plain": [
       "cip_title                     Business Administration and Management, General\n",
       "ncses_sci_group                                   Non-science and engineering\n",
       "ncses_field_group                                     Business and Management\n",
       "ncses_detailed_field_group                            Business and Management\n",
       "nsf_broad_field                                   Non-science and engineering\n",
       "dhs_stem                                                                False\n",
       "Name: 52.0201, dtype: object"
      ]
     },
     "execution_count": 70,
     "metadata": {},
     "output_type": "execute_result"
    }
   ],
   "source": [
    "cipdf.loc['52.0201']"
   ]
  },
  {
   "cell_type": "markdown",
   "id": "39002d7a-bae6-411b-9260-60085cddb4f3",
   "metadata": {},
   "source": [
    "Ok it's being mapped from 1985 to 1990 correctly, but then it's not present in the 1990 crosswalk. Does that mean it should just be propagated? Or it needs to be in the dict?"
   ]
  },
  {
   "cell_type": "code",
   "execution_count": null,
   "id": "47231f43-de48-4b52-a7c6-f4e1c7206c26",
   "metadata": {},
   "outputs": [],
   "source": []
  },
  {
   "cell_type": "markdown",
   "id": "fb10fad6-d91d-4e74-b455-1eee680cc3da",
   "metadata": {},
   "source": [
    "Update: it was becuase the NCSES classifier was only classifying the original CIP code, not the 2020 one. And this original cip code (1) doesn't have a cip title (bc the original crosswalk file didn't have one) and (2) isn't in the NCSES classifier.\n",
    "\n",
    "Ok so now we still have a bunch of missing codes, let's dig into those."
   ]
  },
  {
   "cell_type": "markdown",
   "id": "a3775bbc-8217-472e-bd93-7f8cf00a3d58",
   "metadata": {},
   "source": [
    "Update: the vast majority were \"total\" cips that weren't being seen. I fixed that.\n"
   ]
  },
  {
   "cell_type": "markdown",
   "id": "5469b730-d999-4eb4-93e2-25562e699430",
   "metadata": {},
   "source": [
    "Now it looks like the early 90's are most problematic. What's going on here? Let's look at 07.0305 as an example..."
   ]
  },
  {
   "cell_type": "code",
   "execution_count": 71,
   "id": "0101cd4b-3c7e-475d-8ca2-e1a2662c9ebe",
   "metadata": {},
   "outputs": [
    {
     "ename": "KeyError",
     "evalue": "'07.0305'",
     "output_type": "error",
     "traceback": [
      "\u001b[0;31m---------------------------------------------------------------------------\u001b[0m",
      "\u001b[0;31mKeyError\u001b[0m                                  Traceback (most recent call last)",
      "File \u001b[0;32m~/miniconda3/envs/scipeds-dev/lib/python3.10/site-packages/pandas/core/indexes/base.py:3805\u001b[0m, in \u001b[0;36mIndex.get_loc\u001b[0;34m(self, key)\u001b[0m\n\u001b[1;32m   3804\u001b[0m \u001b[38;5;28;01mtry\u001b[39;00m:\n\u001b[0;32m-> 3805\u001b[0m     \u001b[38;5;28;01mreturn\u001b[39;00m \u001b[38;5;28;43mself\u001b[39;49m\u001b[38;5;241;43m.\u001b[39;49m\u001b[43m_engine\u001b[49m\u001b[38;5;241;43m.\u001b[39;49m\u001b[43mget_loc\u001b[49m\u001b[43m(\u001b[49m\u001b[43mcasted_key\u001b[49m\u001b[43m)\u001b[49m\n\u001b[1;32m   3806\u001b[0m \u001b[38;5;28;01mexcept\u001b[39;00m \u001b[38;5;167;01mKeyError\u001b[39;00m \u001b[38;5;28;01mas\u001b[39;00m err:\n",
      "File \u001b[0;32mindex.pyx:167\u001b[0m, in \u001b[0;36mpandas._libs.index.IndexEngine.get_loc\u001b[0;34m()\u001b[0m\n",
      "File \u001b[0;32mindex.pyx:196\u001b[0m, in \u001b[0;36mpandas._libs.index.IndexEngine.get_loc\u001b[0;34m()\u001b[0m\n",
      "File \u001b[0;32mpandas/_libs/hashtable_class_helper.pxi:5392\u001b[0m, in \u001b[0;36mpandas._libs.hashtable.Int16HashTable.get_item\u001b[0;34m()\u001b[0m\n",
      "File \u001b[0;32mpandas/_libs/hashtable_class_helper.pxi:5416\u001b[0m, in \u001b[0;36mpandas._libs.hashtable.Int16HashTable.get_item\u001b[0;34m()\u001b[0m\n",
      "\u001b[0;31mKeyError\u001b[0m: 222",
      "\nThe above exception was the direct cause of the following exception:\n",
      "\u001b[0;31mKeyError\u001b[0m                                  Traceback (most recent call last)",
      "Cell \u001b[0;32mIn[71], line 1\u001b[0m\n\u001b[0;32m----> 1\u001b[0m \u001b[43mcipdf\u001b[49m\u001b[38;5;241;43m.\u001b[39;49m\u001b[43mloc\u001b[49m\u001b[43m[\u001b[49m\u001b[38;5;124;43m\"\u001b[39;49m\u001b[38;5;124;43m07.0305\u001b[39;49m\u001b[38;5;124;43m\"\u001b[39;49m\u001b[43m]\u001b[49m\n",
      "File \u001b[0;32m~/miniconda3/envs/scipeds-dev/lib/python3.10/site-packages/pandas/core/indexing.py:1191\u001b[0m, in \u001b[0;36m_LocationIndexer.__getitem__\u001b[0;34m(self, key)\u001b[0m\n\u001b[1;32m   1189\u001b[0m maybe_callable \u001b[38;5;241m=\u001b[39m com\u001b[38;5;241m.\u001b[39mapply_if_callable(key, \u001b[38;5;28mself\u001b[39m\u001b[38;5;241m.\u001b[39mobj)\n\u001b[1;32m   1190\u001b[0m maybe_callable \u001b[38;5;241m=\u001b[39m \u001b[38;5;28mself\u001b[39m\u001b[38;5;241m.\u001b[39m_check_deprecated_callable_usage(key, maybe_callable)\n\u001b[0;32m-> 1191\u001b[0m \u001b[38;5;28;01mreturn\u001b[39;00m \u001b[38;5;28;43mself\u001b[39;49m\u001b[38;5;241;43m.\u001b[39;49m\u001b[43m_getitem_axis\u001b[49m\u001b[43m(\u001b[49m\u001b[43mmaybe_callable\u001b[49m\u001b[43m,\u001b[49m\u001b[43m \u001b[49m\u001b[43maxis\u001b[49m\u001b[38;5;241;43m=\u001b[39;49m\u001b[43maxis\u001b[49m\u001b[43m)\u001b[49m\n",
      "File \u001b[0;32m~/miniconda3/envs/scipeds-dev/lib/python3.10/site-packages/pandas/core/indexing.py:1431\u001b[0m, in \u001b[0;36m_LocIndexer._getitem_axis\u001b[0;34m(self, key, axis)\u001b[0m\n\u001b[1;32m   1429\u001b[0m \u001b[38;5;66;03m# fall thru to straight lookup\u001b[39;00m\n\u001b[1;32m   1430\u001b[0m \u001b[38;5;28mself\u001b[39m\u001b[38;5;241m.\u001b[39m_validate_key(key, axis)\n\u001b[0;32m-> 1431\u001b[0m \u001b[38;5;28;01mreturn\u001b[39;00m \u001b[38;5;28;43mself\u001b[39;49m\u001b[38;5;241;43m.\u001b[39;49m\u001b[43m_get_label\u001b[49m\u001b[43m(\u001b[49m\u001b[43mkey\u001b[49m\u001b[43m,\u001b[49m\u001b[43m \u001b[49m\u001b[43maxis\u001b[49m\u001b[38;5;241;43m=\u001b[39;49m\u001b[43maxis\u001b[49m\u001b[43m)\u001b[49m\n",
      "File \u001b[0;32m~/miniconda3/envs/scipeds-dev/lib/python3.10/site-packages/pandas/core/indexing.py:1381\u001b[0m, in \u001b[0;36m_LocIndexer._get_label\u001b[0;34m(self, label, axis)\u001b[0m\n\u001b[1;32m   1379\u001b[0m \u001b[38;5;28;01mdef\u001b[39;00m\u001b[38;5;250m \u001b[39m\u001b[38;5;21m_get_label\u001b[39m(\u001b[38;5;28mself\u001b[39m, label, axis: AxisInt):\n\u001b[1;32m   1380\u001b[0m     \u001b[38;5;66;03m# GH#5567 this will fail if the label is not present in the axis.\u001b[39;00m\n\u001b[0;32m-> 1381\u001b[0m     \u001b[38;5;28;01mreturn\u001b[39;00m \u001b[38;5;28;43mself\u001b[39;49m\u001b[38;5;241;43m.\u001b[39;49m\u001b[43mobj\u001b[49m\u001b[38;5;241;43m.\u001b[39;49m\u001b[43mxs\u001b[49m\u001b[43m(\u001b[49m\u001b[43mlabel\u001b[49m\u001b[43m,\u001b[49m\u001b[43m \u001b[49m\u001b[43maxis\u001b[49m\u001b[38;5;241;43m=\u001b[39;49m\u001b[43maxis\u001b[49m\u001b[43m)\u001b[49m\n",
      "File \u001b[0;32m~/miniconda3/envs/scipeds-dev/lib/python3.10/site-packages/pandas/core/generic.py:4301\u001b[0m, in \u001b[0;36mNDFrame.xs\u001b[0;34m(self, key, axis, level, drop_level)\u001b[0m\n\u001b[1;32m   4299\u001b[0m             new_index \u001b[38;5;241m=\u001b[39m index[loc]\n\u001b[1;32m   4300\u001b[0m \u001b[38;5;28;01melse\u001b[39;00m:\n\u001b[0;32m-> 4301\u001b[0m     loc \u001b[38;5;241m=\u001b[39m \u001b[43mindex\u001b[49m\u001b[38;5;241;43m.\u001b[39;49m\u001b[43mget_loc\u001b[49m\u001b[43m(\u001b[49m\u001b[43mkey\u001b[49m\u001b[43m)\u001b[49m\n\u001b[1;32m   4303\u001b[0m     \u001b[38;5;28;01mif\u001b[39;00m \u001b[38;5;28misinstance\u001b[39m(loc, np\u001b[38;5;241m.\u001b[39mndarray):\n\u001b[1;32m   4304\u001b[0m         \u001b[38;5;28;01mif\u001b[39;00m loc\u001b[38;5;241m.\u001b[39mdtype \u001b[38;5;241m==\u001b[39m np\u001b[38;5;241m.\u001b[39mbool_:\n",
      "File \u001b[0;32m~/miniconda3/envs/scipeds-dev/lib/python3.10/site-packages/pandas/core/indexes/base.py:3812\u001b[0m, in \u001b[0;36mIndex.get_loc\u001b[0;34m(self, key)\u001b[0m\n\u001b[1;32m   3807\u001b[0m     \u001b[38;5;28;01mif\u001b[39;00m \u001b[38;5;28misinstance\u001b[39m(casted_key, \u001b[38;5;28mslice\u001b[39m) \u001b[38;5;129;01mor\u001b[39;00m (\n\u001b[1;32m   3808\u001b[0m         \u001b[38;5;28misinstance\u001b[39m(casted_key, abc\u001b[38;5;241m.\u001b[39mIterable)\n\u001b[1;32m   3809\u001b[0m         \u001b[38;5;129;01mand\u001b[39;00m \u001b[38;5;28many\u001b[39m(\u001b[38;5;28misinstance\u001b[39m(x, \u001b[38;5;28mslice\u001b[39m) \u001b[38;5;28;01mfor\u001b[39;00m x \u001b[38;5;129;01min\u001b[39;00m casted_key)\n\u001b[1;32m   3810\u001b[0m     ):\n\u001b[1;32m   3811\u001b[0m         \u001b[38;5;28;01mraise\u001b[39;00m InvalidIndexError(key)\n\u001b[0;32m-> 3812\u001b[0m     \u001b[38;5;28;01mraise\u001b[39;00m \u001b[38;5;167;01mKeyError\u001b[39;00m(key) \u001b[38;5;28;01mfrom\u001b[39;00m\u001b[38;5;250m \u001b[39m\u001b[38;5;21;01merr\u001b[39;00m\n\u001b[1;32m   3813\u001b[0m \u001b[38;5;28;01mexcept\u001b[39;00m \u001b[38;5;167;01mTypeError\u001b[39;00m:\n\u001b[1;32m   3814\u001b[0m     \u001b[38;5;66;03m# If we have a listlike key, _check_indexing_error will raise\u001b[39;00m\n\u001b[1;32m   3815\u001b[0m     \u001b[38;5;66;03m#  InvalidIndexError. Otherwise we fall through and re-raise\u001b[39;00m\n\u001b[1;32m   3816\u001b[0m     \u001b[38;5;66;03m#  the TypeError.\u001b[39;00m\n\u001b[1;32m   3817\u001b[0m     \u001b[38;5;28mself\u001b[39m\u001b[38;5;241m.\u001b[39m_check_indexing_error(key)\n",
      "\u001b[0;31mKeyError\u001b[0m: '07.0305'"
     ]
    }
   ],
   "source": [
    "cipdf.loc[\"07.0305\"]"
   ]
  },
  {
   "cell_type": "markdown",
   "id": "4fd8709c-5596-4281-bf27-a3209c7dab28",
   "metadata": {},
   "source": [
    "07.0305 Business Data Programming (from [here](https://nces.ed.gov/pubs91/91396.pdf))\n",
    "\n",
    "Not finding it in the NSF data or in the Excel with all the crosswalks. Uh oh...\n",
    "\n",
    "But also in that pdf, it looks like it SHOULD be in the 85 -> 90 crosswalk:\n",
    "\n",
    "07.0305 52.1202 Business Computer Programming/Programmer"
   ]
  },
  {
   "cell_type": "markdown",
   "id": "f96258a7-d25d-437f-bb18-38e0bd0f4ba6",
   "metadata": {},
   "source": [
    "What about the next most common one, `17.0602`?\n",
    "\n",
    "This one is also in the pdf but not in the Excel file...\n",
    "\n",
    "Same with this guy: 43.0105"
   ]
  },
  {
   "cell_type": "markdown",
   "id": "aaf0bbab-8e51-43b2-94ef-29adbdef12f3",
   "metadata": {},
   "source": [
    "# Read the crosswalk from the CIP 90 pdf\n",
    "\n",
    "https://nces.ed.gov/pubs91/91396.pdf\n",
    "\n",
    "I then opened the pdf in preview and dragged "
   ]
  },
  {
   "cell_type": "code",
   "execution_count": null,
   "id": "b6c74159-5cf7-404a-8c80-0c6fd6938672",
   "metadata": {},
   "outputs": [],
   "source": [
    "import fitz  # PyMuPDF\n",
    "from pathlib import Path\n",
    "import pandas as pd"
   ]
  },
  {
   "cell_type": "code",
   "execution_count": null,
   "id": "a4c79890-6179-41b7-a037-41fb178f9ce2",
   "metadata": {},
   "outputs": [],
   "source": [
    "\n",
    "\n",
    "# Open the PDF file\n",
    "pdf_path = Path(\"/Users/claireduvallet/Downloads/91396 (dragged).pdf\")\n",
    "doc = fitz.open(pdf_path)\n",
    "\n",
    "# Extract text from all pages\n",
    "pdf_text = '\\n'.join([page.get_text(\"text\") for page in doc])\n",
    "\n",
    "pdf_text = pdf_text.split('\\n')\n",
    "\n",
    "pdf_text = pdf_text[16:]\n",
    "\n",
    "# Remove the Chapter lines\n",
    "ch_idx_to_remove = {\n",
    "    'CHAPTER TWO': [-1, 1], # Ch. 2 has an empty string before the CHAPTER TWO line\n",
    "    'CHAPTER THREE': [0, 1],\n",
    "    'CHAPTER FOUR': [0, 1],\n",
    "    'CHAPTER FIVE': [-1, 1],\n",
    "    'CHAPTER SIX': [-1, 1]\n",
    "}\n",
    "rm_idxs = []\n",
    "for k, v in ch_idx_to_remove.items():\n",
    "    i = pdf_text.index(k)\n",
    "    rm_idxs += list(range(i + v[0], i + v[1] + 1))\n",
    "\n",
    "pdf_text = [t for i, t in enumerate(pdf_text) if i not in rm_idxs]\n",
    "\n",
    "# Remove deleted CIP codes, they don't have a 90 CIP\n",
    "deleted_idxs = [i for i, t in enumerate(pdf_text) if t == \"Deleted\"]\n",
    "rm_idxs = []\n",
    "for i in deleted_idxs:\n",
    "    rm_idxs += [i-1, i]\n",
    "\n",
    "pdf_text = [t for i, t in enumerate(pdf_text) if i not in rm_idxs]\n",
    "\n",
    "# Remove one \"Assign to Specific Hobby (see Appendix D)\", also doesn't have a 90 CIP\n",
    "deleted_idxs = [i for i, t in enumerate(pdf_text) if t == \"Assign to Specific Hobby (see Appendix D)\"]\n",
    "rm_idxs = []\n",
    "for i in deleted_idxs:\n",
    "    rm_idxs += [i-1, i]\n",
    "\n",
    "pdf_text = [t for i, t in enumerate(pdf_text) if i not in rm_idxs]\n",
    "\n",
    "# Remove any remaining empty strings\n",
    "pdf_text = [t for t in pdf_text if t != '']\n",
    "\n",
    "# For some reason only one line got parsed incorrectly\n",
    "idx = 1004\n",
    "pdf_text = pdf_text[:idx] + [' '.join(pdf_text[idx:idx+8])] + pdf_text[idx+8:]\n",
    "\n",
    "with open('extracted_text.txt', 'w') as f:\n",
    "    f.write('\\n'.join(pdf_text))\n",
    "\n",
    "pdf_df = pd.DataFrame(\n",
    "    data=[pdf_text[::3], pdf_text[1::3], pdf_text[2::3]],\n",
    "    index=['CIP85', 'CIP90', 'CIP90TITLE']\n",
    ").T.replace('', None).dropna(how='all')\n",
    "\n",
    "pdf_df.head()\n"
   ]
  },
  {
   "cell_type": "code",
   "execution_count": null,
   "id": "c44db042-d48d-4e5a-a2eb-b6f49bc9b496",
   "metadata": {},
   "outputs": [],
   "source": [
    "from pipeline.cip_crosswalk import CIPCodeCrosswalk"
   ]
  },
  {
   "cell_type": "code",
   "execution_count": null,
   "id": "a0d5b019-09b4-4a34-b9bd-0fe266f6788e",
   "metadata": {},
   "outputs": [],
   "source": [
    "cw = CIPCodeCrosswalk()\n",
    "cw._load_1985_to_1990_crosswalk()"
   ]
  },
  {
   "cell_type": "code",
   "execution_count": null,
   "id": "ad033943-cebc-4af8-99b4-c37004d09989",
   "metadata": {},
   "outputs": [],
   "source": [
    "original_crosswalk = cw.crosswalk[(1984, 1989)]['cip_map']\n",
    "# original_crosswalk"
   ]
  },
  {
   "cell_type": "code",
   "execution_count": null,
   "id": "2c5d5e69-1fea-4592-82f4-b7ae90e00660",
   "metadata": {},
   "outputs": [],
   "source": [
    "pdf_crosswalk = dict(zip(pdf_df['CIP85'], pdf_df['CIP90']))\n",
    "pdf_crosswalk = {k: v for k, v in pdf_crosswalk.items() if k != v}\n",
    "# pdf_crosswalk"
   ]
  },
  {
   "cell_type": "code",
   "execution_count": null,
   "id": "a5e2b87d-6d9c-432f-8d6d-319a48addad0",
   "metadata": {},
   "outputs": [],
   "source": [
    "len(original_crosswalk), len(pdf_crosswalk)"
   ]
  },
  {
   "cell_type": "code",
   "execution_count": null,
   "id": "16aa5df3-473a-4e69-8628-93333613db69",
   "metadata": {},
   "outputs": [],
   "source": [
    "# Any duplicates in the PDF crosswalk?\n",
    "len(set(pdf_crosswalk.keys()))"
   ]
  },
  {
   "cell_type": "code",
   "execution_count": null,
   "id": "b7496fdc-8625-4b18-adc5-03f882867788",
   "metadata": {},
   "outputs": [],
   "source": [
    "len([k for k in pdf_crosswalk.keys() if k not in original_crosswalk.keys()])"
   ]
  },
  {
   "cell_type": "code",
   "execution_count": null,
   "id": "a55b0e48-8ea5-486f-b447-cad6a04309a6",
   "metadata": {},
   "outputs": [],
   "source": [
    "# Keys present in both dictionaries\n",
    "len(set(pdf_crosswalk.keys()) & set(original_crosswalk.keys()))"
   ]
  },
  {
   "cell_type": "code",
   "execution_count": null,
   "id": "82482387-77af-4123-8a86-d7d347af1812",
   "metadata": {},
   "outputs": [],
   "source": [
    "# Unique keys in each dictionary\n",
    "unique_to_orig = set(original_crosswalk.keys()) - set(pdf_crosswalk.keys())\n",
    "unique_to_pdf = set(pdf_crosswalk.keys()) - set(original_crosswalk.keys())\n",
    "\n",
    "# unique_to_orig"
   ]
  },
  {
   "cell_type": "code",
   "execution_count": null,
   "id": "407070e5-334d-4c08-b219-3af74f357576",
   "metadata": {},
   "outputs": [],
   "source": [
    "len(unique_to_pdf)"
   ]
  },
  {
   "cell_type": "code",
   "execution_count": null,
   "id": "3bd8020b-cb74-4eb2-aee3-2d2ee4137355",
   "metadata": {},
   "outputs": [],
   "source": [
    "# Of the keys that are in both dicts, do they map to the same values?\n",
    "dup_keys = list(set(pdf_crosswalk.keys()) & set(original_crosswalk.keys()))\n",
    "sum([original_crosswalk[k] != pdf_crosswalk[k] for k in dup_keys])"
   ]
  },
  {
   "cell_type": "code",
   "execution_count": null,
   "id": "7be6a037-ff04-46db-a824-b4b9622ce0d8",
   "metadata": {},
   "outputs": [],
   "source": [
    "[(k, original_crosswalk[k], pdf_crosswalk[k]) for k in dup_keys if original_crosswalk[k] != pdf_crosswalk[k]]"
   ]
  },
  {
   "cell_type": "markdown",
   "id": "ddb80f7b-2f96-4e2c-a91b-1e256ea4b742",
   "metadata": {},
   "source": [
    "17.0499 is in the pdf twice, one maps to 51.0301 (what the excel maps to) and the other maps to 51.1599...\n",
    "same with 13.0801\n",
    "\n",
    "In all cases, I want to use the first mapping not the second."
   ]
  },
  {
   "cell_type": "markdown",
   "id": "579bd6a5-f8bc-4aa7-a571-1b64c5476aec",
   "metadata": {},
   "source": [
    "# Missing 1990 codes\n",
    "\n",
    "Ok, now that we've update the code to use the CIP crosswalk from the pdf, let's revisit what's missing:\n"
   ]
  },
  {
   "cell_type": "code",
   "execution_count": 73,
   "id": "d5620e49-c332-43ce-b92a-23e48c83f66b",
   "metadata": {},
   "outputs": [
    {
     "data": {
      "text/html": [
       "<div>\n",
       "<style scoped>\n",
       "    .dataframe tbody tr th:only-of-type {\n",
       "        vertical-align: middle;\n",
       "    }\n",
       "\n",
       "    .dataframe tbody tr th {\n",
       "        vertical-align: top;\n",
       "    }\n",
       "\n",
       "    .dataframe thead th {\n",
       "        text-align: right;\n",
       "    }\n",
       "</style>\n",
       "<table border=\"1\" class=\"dataframe\">\n",
       "  <thead>\n",
       "    <tr style=\"text-align: right;\">\n",
       "      <th></th>\n",
       "      <th>year</th>\n",
       "      <th>uni_degrees_total</th>\n",
       "      <th>unknown_cip_total</th>\n",
       "      <th>fraction_unknown_cips</th>\n",
       "    </tr>\n",
       "  </thead>\n",
       "  <tbody>\n",
       "    <tr>\n",
       "      <th>0</th>\n",
       "      <td>1984</td>\n",
       "      <td>1991889</td>\n",
       "      <td>20380</td>\n",
       "      <td>0.010231</td>\n",
       "    </tr>\n",
       "    <tr>\n",
       "      <th>1</th>\n",
       "      <td>1985</td>\n",
       "      <td>2004285</td>\n",
       "      <td>21083</td>\n",
       "      <td>0.010519</td>\n",
       "    </tr>\n",
       "    <tr>\n",
       "      <th>2</th>\n",
       "      <td>1986</td>\n",
       "      <td>2008295</td>\n",
       "      <td>23703</td>\n",
       "      <td>0.011803</td>\n",
       "    </tr>\n",
       "    <tr>\n",
       "      <th>3</th>\n",
       "      <td>1987</td>\n",
       "      <td>2163263</td>\n",
       "      <td>3981</td>\n",
       "      <td>0.001840</td>\n",
       "    </tr>\n",
       "    <tr>\n",
       "      <th>4</th>\n",
       "      <td>1988</td>\n",
       "      <td>2324652</td>\n",
       "      <td>80657</td>\n",
       "      <td>0.034696</td>\n",
       "    </tr>\n",
       "    <tr>\n",
       "      <th>5</th>\n",
       "      <td>1989</td>\n",
       "      <td>2412546</td>\n",
       "      <td>138020</td>\n",
       "      <td>0.057209</td>\n",
       "    </tr>\n",
       "    <tr>\n",
       "      <th>6</th>\n",
       "      <td>1990</td>\n",
       "      <td>2320375</td>\n",
       "      <td>30948</td>\n",
       "      <td>0.013337</td>\n",
       "    </tr>\n",
       "    <tr>\n",
       "      <th>7</th>\n",
       "      <td>1991</td>\n",
       "      <td>2408979</td>\n",
       "      <td>69562</td>\n",
       "      <td>0.028876</td>\n",
       "    </tr>\n",
       "    <tr>\n",
       "      <th>8</th>\n",
       "      <td>1992</td>\n",
       "      <td>2550460</td>\n",
       "      <td>51136</td>\n",
       "      <td>0.020050</td>\n",
       "    </tr>\n",
       "    <tr>\n",
       "      <th>9</th>\n",
       "      <td>1993</td>\n",
       "      <td>2616641</td>\n",
       "      <td>30515</td>\n",
       "      <td>0.011662</td>\n",
       "    </tr>\n",
       "    <tr>\n",
       "      <th>10</th>\n",
       "      <td>1994</td>\n",
       "      <td>2682879</td>\n",
       "      <td>20746</td>\n",
       "      <td>0.007733</td>\n",
       "    </tr>\n",
       "  </tbody>\n",
       "</table>\n",
       "</div>"
      ],
      "text/plain": [
       "    year  uni_degrees_total  unknown_cip_total  fraction_unknown_cips\n",
       "0   1984            1991889              20380               0.010231\n",
       "1   1985            2004285              21083               0.010519\n",
       "2   1986            2008295              23703               0.011803\n",
       "3   1987            2163263               3981               0.001840\n",
       "4   1988            2324652              80657               0.034696\n",
       "5   1989            2412546             138020               0.057209\n",
       "6   1990            2320375              30948               0.013337\n",
       "7   1991            2408979              69562               0.028876\n",
       "8   1992            2550460              51136               0.020050\n",
       "9   1993            2616641              30515               0.011662\n",
       "10  1994            2682879              20746               0.007733"
      ]
     },
     "execution_count": 73,
     "metadata": {},
     "output_type": "execute_result"
    }
   ],
   "source": [
    "proportion_missing = pd.merge(\n",
    "    df_w_cip[['year', 'uni_degrees_total']].drop_duplicates(),\n",
    "    df_w_cip[df_w_cip['cip_title'] == \"Unknown\"][['year', FieldTaxonomy.cip, \"field_degrees_total\"]].drop_duplicates().groupby('year')[\"field_degrees_total\"].sum(),\n",
    "    right_index=True,\n",
    "    left_on='year'\n",
    ").rename(columns={'field_degrees_total': 'unknown_cip_total'})\n",
    "\n",
    "proportion_missing['fraction_unknown_cips'] = proportion_missing['unknown_cip_total'] / proportion_missing['uni_degrees_total']\n",
    "\n",
    "proportion_missing"
   ]
  },
  {
   "cell_type": "code",
   "execution_count": null,
   "id": "e962aa38-7eb2-4cba-9be8-37b4f3399ad0",
   "metadata": {},
   "outputs": [],
   "source": [
    "# Now 1990 is the worst offender, what's up?\n",
    "(\n",
    "    df_w_cip[\n",
    "        (df_w_cip['cip_title'] == \"Unknown\") & (df_w_cip['year'].isin([1990, 1991]))\n",
    "    ]\n",
    "    .groupby([FieldTaxonomy.cip])\n",
    "    ['field_degrees_total']\n",
    "    .sum()\n",
    ").sort_values(ascending=False)"
   ]
  },
  {
   "cell_type": "markdown",
   "id": "98c583ec-07f7-4d96-8f39-14c201b867d5",
   "metadata": {},
   "source": [
    "Hmm, 06.0401 is one that I thought I had already fixed. Maybe it's only in the 1985 -> 1990 crosswalk and not in the 1990 -> 2k crosswalk?"
   ]
  },
  {
   "cell_type": "code",
   "execution_count": null,
   "id": "462b5213-92e4-4b58-8f6f-b00a532720ac",
   "metadata": {},
   "outputs": [],
   "source": [
    "cw.crosswalk.keys()"
   ]
  },
  {
   "cell_type": "code",
   "execution_count": null,
   "id": "d2602205-e19a-40d9-9011-0f9c2b6cb731",
   "metadata": {},
   "outputs": [],
   "source": [
    "'06.0401' in cw.crosswalk[(1990, 1999)]['cip_map']"
   ]
  },
  {
   "cell_type": "code",
   "execution_count": null,
   "id": "76d9db56-5b79-46a5-a9e4-9fb3ba228e8d",
   "metadata": {},
   "outputs": [],
   "source": [
    "'06.0401' in cw.crosswalk[(1984, 1989)]['cip_map']"
   ]
  },
  {
   "cell_type": "code",
   "execution_count": null,
   "id": "afda1384-f1c0-4dcf-a4dd-2afc896be1b5",
   "metadata": {},
   "outputs": [],
   "source": [
    "tmp = (\n",
    "    df_w_cip[\n",
    "        (df_w_cip['cip_title'] == \"Unknown\") & (df_w_cip['year'].isin([1990, 1991]))\n",
    "    ]\n",
    "    .groupby([FieldTaxonomy.cip])\n",
    "    ['field_degrees_total']\n",
    "    .sum()\n",
    ").sort_values(ascending=False).head(10)\n",
    "\n",
    "for missing_cip in tmp.index:\n",
    "\n",
    "    print(f\"{missing_cip} in 90 -> 2k crosswalk: {missing_cip in cw.crosswalk[(1990, 1999)]['cip_map']}\")\n",
    "    print(f\"{missing_cip} in 85 -> 90 crosswalk: {missing_cip in cw.crosswalk[(1984, 1989)]['cip_map']}\")"
   ]
  },
  {
   "cell_type": "markdown",
   "id": "284c2f4c-63a2-4cdf-997e-2d20960fb4d6",
   "metadata": {},
   "source": [
    "Ok, so these are all in the 85 -> 90 crosswalk but not the 90 -> 99 crosswalk. So I need to use the 85 -> 90 crosswalk for 1990 and 1991 as well. (ugh)"
   ]
  },
  {
   "cell_type": "markdown",
   "id": "f3d14de4-4bc0-478e-8c40-69ff027414bc",
   "metadata": {},
   "source": [
    "Ok, now that I've used the 85 -> 90 crosswalk for my 1990 and 1991 data, 1988 and 1989 are still pretty bad offenders (5% of majors aren't in NCSES classification)."
   ]
  },
  {
   "cell_type": "code",
   "execution_count": 74,
   "id": "c8161da0-d21d-49d1-99de-1aec90965d1c",
   "metadata": {},
   "outputs": [
    {
     "name": "stderr",
     "output_type": "stream",
     "text": [
      "/var/folders/87/tp5jbk1x7zx0c0tx8zqvrxjr0000gp/T/ipykernel_70343/1938997181.py:5: FutureWarning: The default of observed=False is deprecated and will be changed to True in a future version of pandas. Pass observed=False to retain current behavior or observed=True to adopt the future default and silence this warning.\n",
      "  .groupby([FieldTaxonomy.cip])\n"
     ]
    },
    {
     "data": {
      "text/plain": [
       "FieldTaxonomy.cip\n",
       "95.0000    415660\n",
       "20.0102      7946\n",
       "20.0101      5600\n",
       "20.0107      1994\n",
       "61.2601      1256\n",
       "60.0199       552\n",
       "60.0105       530\n",
       "61.0213       484\n",
       "60.0299       466\n",
       "28.9999       332\n",
       "Name: field_degrees_total, dtype: int64"
      ]
     },
     "execution_count": 74,
     "metadata": {},
     "output_type": "execute_result"
    }
   ],
   "source": [
    "(\n",
    "    df_w_cip[\n",
    "        (df_w_cip['cip_title'] == \"Unknown\") & (df_w_cip['year'].isin([1988, 1989]))\n",
    "    ]\n",
    "    .groupby([FieldTaxonomy.cip])\n",
    "    ['field_degrees_total']\n",
    "    .sum()\n",
    ").sort_values(ascending=False).head(10)\n"
   ]
  },
  {
   "cell_type": "markdown",
   "id": "d163b4b2-3f41-4d5a-bd98-f9620270892e",
   "metadata": {},
   "source": [
    "AhA! There's a bunch of CIP 95.000. I think these are Unknown or Total?\n",
    "\n",
    "Oh, maybe they're not Bachelor's. ChatGPT said this but can't find me a source: \"The Classification of Instructional Programs (CIP) code 95.0000 corresponds to \"High School/Secondary Diplomas and Certificates, Other.\" This category encompasses any high school or secondary-level diploma or certificate programs that don't fall under specific categories. The CIP is a taxonomic scheme developed by the U.S. Department of Education's National Center for Education Statistics (NCES) to support the accurate tracking and reporting of fields of study and program completions.\""
   ]
  },
  {
   "cell_type": "code",
   "execution_count": 76,
   "id": "1cbf24c5-5d58-42d8-8385-4b14783d91f2",
   "metadata": {},
   "outputs": [
    {
     "data": {
      "text/html": [
       "<div>\n",
       "<style scoped>\n",
       "    .dataframe tbody tr th:only-of-type {\n",
       "        vertical-align: middle;\n",
       "    }\n",
       "\n",
       "    .dataframe tbody tr th {\n",
       "        vertical-align: top;\n",
       "    }\n",
       "\n",
       "    .dataframe thead th {\n",
       "        text-align: right;\n",
       "    }\n",
       "</style>\n",
       "<table border=\"1\" class=\"dataframe\">\n",
       "  <thead>\n",
       "    <tr style=\"text-align: right;\">\n",
       "      <th></th>\n",
       "      <th>year</th>\n",
       "      <th>uni_degrees_total</th>\n",
       "      <th>unknown_cip_total</th>\n",
       "      <th>fraction_unknown_cips</th>\n",
       "    </tr>\n",
       "  </thead>\n",
       "  <tbody>\n",
       "    <tr>\n",
       "      <th>0</th>\n",
       "      <td>1984</td>\n",
       "      <td>986345</td>\n",
       "      <td>4575</td>\n",
       "      <td>0.004638</td>\n",
       "    </tr>\n",
       "    <tr>\n",
       "      <th>1</th>\n",
       "      <td>1985</td>\n",
       "      <td>990877</td>\n",
       "      <td>4448</td>\n",
       "      <td>0.004489</td>\n",
       "    </tr>\n",
       "    <tr>\n",
       "      <th>2</th>\n",
       "      <td>1986</td>\n",
       "      <td>1000204</td>\n",
       "      <td>4485</td>\n",
       "      <td>0.004484</td>\n",
       "    </tr>\n",
       "    <tr>\n",
       "      <th>3</th>\n",
       "      <td>1987</td>\n",
       "      <td>1005021</td>\n",
       "      <td>806</td>\n",
       "      <td>0.000802</td>\n",
       "    </tr>\n",
       "    <tr>\n",
       "      <th>4</th>\n",
       "      <td>1988</td>\n",
       "      <td>1009223</td>\n",
       "      <td>4945</td>\n",
       "      <td>0.004900</td>\n",
       "    </tr>\n",
       "    <tr>\n",
       "      <th>5</th>\n",
       "      <td>1989</td>\n",
       "      <td>1034535</td>\n",
       "      <td>6156</td>\n",
       "      <td>0.005950</td>\n",
       "    </tr>\n",
       "    <tr>\n",
       "      <th>6</th>\n",
       "      <td>1990</td>\n",
       "      <td>1068133</td>\n",
       "      <td>6180</td>\n",
       "      <td>0.005786</td>\n",
       "    </tr>\n",
       "    <tr>\n",
       "      <th>7</th>\n",
       "      <td>1991</td>\n",
       "      <td>1112534</td>\n",
       "      <td>17684</td>\n",
       "      <td>0.015895</td>\n",
       "    </tr>\n",
       "    <tr>\n",
       "      <th>8</th>\n",
       "      <td>1992</td>\n",
       "      <td>1171556</td>\n",
       "      <td>12775</td>\n",
       "      <td>0.010904</td>\n",
       "    </tr>\n",
       "    <tr>\n",
       "      <th>9</th>\n",
       "      <td>1993</td>\n",
       "      <td>1199042</td>\n",
       "      <td>10562</td>\n",
       "      <td>0.008809</td>\n",
       "    </tr>\n",
       "    <tr>\n",
       "      <th>10</th>\n",
       "      <td>1994</td>\n",
       "      <td>1198663</td>\n",
       "      <td>7524</td>\n",
       "      <td>0.006277</td>\n",
       "    </tr>\n",
       "  </tbody>\n",
       "</table>\n",
       "</div>"
      ],
      "text/plain": [
       "    year  uni_degrees_total  unknown_cip_total  fraction_unknown_cips\n",
       "0   1984             986345               4575               0.004638\n",
       "1   1985             990877               4448               0.004489\n",
       "2   1986            1000204               4485               0.004484\n",
       "3   1987            1005021                806               0.000802\n",
       "4   1988            1009223               4945               0.004900\n",
       "5   1989            1034535               6156               0.005950\n",
       "6   1990            1068133               6180               0.005786\n",
       "7   1991            1112534              17684               0.015895\n",
       "8   1992            1171556              12775               0.010904\n",
       "9   1993            1199042              10562               0.008809\n",
       "10  1994            1198663               7524               0.006277"
      ]
     },
     "execution_count": 76,
     "metadata": {},
     "output_type": "execute_result"
    }
   ],
   "source": [
    "qf = QueryFilters(start_year=1984, end_year=1994, award_levels=[AwardLevel.bachelors])\n",
    "df = engine.field_totals_by_grouping(grouping='gender', query_filters=qf, taxonomy=FieldTaxonomy.cip, by_year=True).reset_index()\n",
    "\n",
    "df_w_cip = pd.merge(\n",
    "    df, cipdf,\n",
    "    left_on=FieldTaxonomy.cip, left_index=False,\n",
    "    right_index=True, \n",
    "    validate='many_to_one'\n",
    ")\n",
    "\n",
    "\n",
    "proportion_missing = pd.merge(\n",
    "    df_w_cip[['year', 'uni_degrees_total']].drop_duplicates(),\n",
    "    df_w_cip[df_w_cip['cip_title'] == \"Unknown\"][['year', FieldTaxonomy.cip, \"field_degrees_total\"]].drop_duplicates().groupby('year')[\"field_degrees_total\"].sum(),\n",
    "    right_index=True,\n",
    "    left_on='year'\n",
    ").rename(columns={'field_degrees_total': 'unknown_cip_total'})\n",
    "\n",
    "proportion_missing['fraction_unknown_cips'] = proportion_missing['unknown_cip_total'] / proportion_missing['uni_degrees_total']\n",
    "\n",
    "proportion_missing"
   ]
  },
  {
   "cell_type": "markdown",
   "id": "bbb1d031-6575-4231-a83b-9e8c1f5b3400",
   "metadata": {},
   "source": [
    "Ok that is good enough for me! Below 1% missing for all years except 1991 (1.6%) and 1992 (1.1%)"
   ]
  },
  {
   "cell_type": "code",
   "execution_count": null,
   "id": "517d03c7-4031-4660-adf8-cf2bbeeda376",
   "metadata": {},
   "outputs": [],
   "source": []
  }
 ],
 "metadata": {
  "kernelspec": {
   "display_name": "Python 3 (ipykernel)",
   "language": "python",
   "name": "python3"
  },
  "language_info": {
   "codemirror_mode": {
    "name": "ipython",
    "version": 3
   },
   "file_extension": ".py",
   "mimetype": "text/x-python",
   "name": "python",
   "nbconvert_exporter": "python",
   "pygments_lexer": "ipython3",
   "version": "3.10.11"
  }
 },
 "nbformat": 4,
 "nbformat_minor": 5
}
