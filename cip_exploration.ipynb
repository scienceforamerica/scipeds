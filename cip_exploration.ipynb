{
 "cells": [
  {
   "cell_type": "code",
   "execution_count": 1,
   "id": "e5a02528-b0bc-49cd-8507-0f5ab461dd11",
   "metadata": {},
   "outputs": [],
   "source": [
    "%load_ext autoreload \n",
    "%autoreload 2"
   ]
  },
  {
   "cell_type": "code",
   "execution_count": 2,
   "id": "87c3d311-8497-4c10-a765-95af20d989e9",
   "metadata": {},
   "outputs": [],
   "source": [
    "from scipeds.data.queries import QueryFilters, TaxonomyRollup\n",
    "from scipeds.data.completions import CompletionsQueryEngine\n",
    "from scipeds.data.enums import FieldTaxonomy, AwardLevel\n",
    "\n",
    "from pathlib import Path\n",
    "\n",
    "import pandas as pd"
   ]
  },
  {
   "cell_type": "code",
   "execution_count": 3,
   "id": "b4f3816e-4e7e-44b2-9c79-80de1c7d93ae",
   "metadata": {},
   "outputs": [],
   "source": [
    "db_path = Path('data/processed/scipeds_0_0_4.duckdb')"
   ]
  },
  {
   "cell_type": "code",
   "execution_count": 4,
   "id": "7080081d-7eec-42f8-b8d3-104e2fa034ac",
   "metadata": {},
   "outputs": [],
   "source": [
    "engine = CompletionsQueryEngine(db_path=db_path)"
   ]
  },
  {
   "cell_type": "code",
   "execution_count": 5,
   "id": "7f2635b9-d279-4ac2-81b6-7e9ea6e224aa",
   "metadata": {},
   "outputs": [],
   "source": [
    "qf = QueryFilters(start_year=1984, end_year=1994)\n"
   ]
  },
  {
   "cell_type": "markdown",
   "id": "f13b27ee-f18b-43c7-b290-12c8f92c6c7c",
   "metadata": {},
   "source": [
    "First let's diagnose the problem -- how many of the CIP codes (converted to their cip2020 version) in the 1984-1994 data are unknown / not in NCSES?"
   ]
  },
  {
   "cell_type": "code",
   "execution_count": 6,
   "id": "ccb62d52-75e5-462d-aea8-faad87188699",
   "metadata": {},
   "outputs": [
    {
     "data": {
      "text/html": [
       "<div>\n",
       "<style scoped>\n",
       "    .dataframe tbody tr th:only-of-type {\n",
       "        vertical-align: middle;\n",
       "    }\n",
       "\n",
       "    .dataframe tbody tr th {\n",
       "        vertical-align: top;\n",
       "    }\n",
       "\n",
       "    .dataframe thead th {\n",
       "        text-align: right;\n",
       "    }\n",
       "</style>\n",
       "<table border=\"1\" class=\"dataframe\">\n",
       "  <thead>\n",
       "    <tr style=\"text-align: right;\">\n",
       "      <th></th>\n",
       "      <th>cip2020</th>\n",
       "      <th>gender</th>\n",
       "      <th>year</th>\n",
       "      <th>field_degrees_within_gender</th>\n",
       "      <th>field_degrees_total</th>\n",
       "      <th>uni_degrees_within_gender</th>\n",
       "      <th>uni_degrees_total</th>\n",
       "    </tr>\n",
       "  </thead>\n",
       "  <tbody>\n",
       "    <tr>\n",
       "      <th>0</th>\n",
       "      <td>01.0000</td>\n",
       "      <td>men</td>\n",
       "      <td>1984</td>\n",
       "      <td>1779</td>\n",
       "      <td>2354</td>\n",
       "      <td>983227</td>\n",
       "      <td>1991889</td>\n",
       "    </tr>\n",
       "    <tr>\n",
       "      <th>1</th>\n",
       "      <td>01.0000</td>\n",
       "      <td>men</td>\n",
       "      <td>1985</td>\n",
       "      <td>1649</td>\n",
       "      <td>2222</td>\n",
       "      <td>980838</td>\n",
       "      <td>2004285</td>\n",
       "    </tr>\n",
       "    <tr>\n",
       "      <th>2</th>\n",
       "      <td>01.0000</td>\n",
       "      <td>men</td>\n",
       "      <td>1986</td>\n",
       "      <td>1451</td>\n",
       "      <td>1974</td>\n",
       "      <td>975329</td>\n",
       "      <td>2008295</td>\n",
       "    </tr>\n",
       "    <tr>\n",
       "      <th>3</th>\n",
       "      <td>01.0000</td>\n",
       "      <td>men</td>\n",
       "      <td>1987</td>\n",
       "      <td>1218</td>\n",
       "      <td>1705</td>\n",
       "      <td>1036892</td>\n",
       "      <td>2163263</td>\n",
       "    </tr>\n",
       "    <tr>\n",
       "      <th>4</th>\n",
       "      <td>01.0000</td>\n",
       "      <td>men</td>\n",
       "      <td>1988</td>\n",
       "      <td>1192</td>\n",
       "      <td>1644</td>\n",
       "      <td>1112371</td>\n",
       "      <td>2324652</td>\n",
       "    </tr>\n",
       "  </tbody>\n",
       "</table>\n",
       "</div>"
      ],
      "text/plain": [
       "   cip2020 gender  year  field_degrees_within_gender  field_degrees_total  \\\n",
       "0  01.0000    men  1984                         1779                 2354   \n",
       "1  01.0000    men  1985                         1649                 2222   \n",
       "2  01.0000    men  1986                         1451                 1974   \n",
       "3  01.0000    men  1987                         1218                 1705   \n",
       "4  01.0000    men  1988                         1192                 1644   \n",
       "\n",
       "   uni_degrees_within_gender  uni_degrees_total  \n",
       "0                     983227            1991889  \n",
       "1                     980838            2004285  \n",
       "2                     975329            2008295  \n",
       "3                    1036892            2163263  \n",
       "4                    1112371            2324652  "
      ]
     },
     "execution_count": 6,
     "metadata": {},
     "output_type": "execute_result"
    }
   ],
   "source": [
    "df = engine.field_totals_by_grouping(grouping='gender', query_filters=qf, taxonomy=FieldTaxonomy.cip, by_year=True)\n",
    "df = df.reset_index()\n",
    "df.head()"
   ]
  },
  {
   "cell_type": "code",
   "execution_count": 7,
   "id": "a493e9b2-1b19-4b14-81a2-9bbd0d91d1a4",
   "metadata": {},
   "outputs": [
    {
     "data": {
      "text/html": [
       "<div>\n",
       "<style scoped>\n",
       "    .dataframe tbody tr th:only-of-type {\n",
       "        vertical-align: middle;\n",
       "    }\n",
       "\n",
       "    .dataframe tbody tr th {\n",
       "        vertical-align: top;\n",
       "    }\n",
       "\n",
       "    .dataframe thead th {\n",
       "        text-align: right;\n",
       "    }\n",
       "</style>\n",
       "<table border=\"1\" class=\"dataframe\">\n",
       "  <thead>\n",
       "    <tr style=\"text-align: right;\">\n",
       "      <th></th>\n",
       "      <th>cip_title</th>\n",
       "      <th>ncses_sci_group</th>\n",
       "      <th>ncses_field_group</th>\n",
       "      <th>ncses_detailed_field_group</th>\n",
       "      <th>nsf_broad_field</th>\n",
       "      <th>dhs_stem</th>\n",
       "    </tr>\n",
       "    <tr>\n",
       "      <th>cip2020</th>\n",
       "      <th></th>\n",
       "      <th></th>\n",
       "      <th></th>\n",
       "      <th></th>\n",
       "      <th></th>\n",
       "      <th></th>\n",
       "    </tr>\n",
       "  </thead>\n",
       "  <tbody>\n",
       "    <tr>\n",
       "      <th>02.0207</th>\n",
       "      <td>Unknown</td>\n",
       "      <td>Not categorized in NCSES crosswalk</td>\n",
       "      <td>Not categorized in NCSES crosswalk</td>\n",
       "      <td>Not categorized in NCSES crosswalk</td>\n",
       "      <td>Non-science and engineering</td>\n",
       "      <td>False</td>\n",
       "    </tr>\n",
       "    <tr>\n",
       "      <th>02.0302</th>\n",
       "      <td>Unknown</td>\n",
       "      <td>Not categorized in NCSES crosswalk</td>\n",
       "      <td>Not categorized in NCSES crosswalk</td>\n",
       "      <td>Not categorized in NCSES crosswalk</td>\n",
       "      <td>Non-science and engineering</td>\n",
       "      <td>False</td>\n",
       "    </tr>\n",
       "    <tr>\n",
       "      <th>02.0303</th>\n",
       "      <td>Unknown</td>\n",
       "      <td>Not categorized in NCSES crosswalk</td>\n",
       "      <td>Not categorized in NCSES crosswalk</td>\n",
       "      <td>Not categorized in NCSES crosswalk</td>\n",
       "      <td>Non-science and engineering</td>\n",
       "      <td>False</td>\n",
       "    </tr>\n",
       "    <tr>\n",
       "      <th>02.0304</th>\n",
       "      <td>Unknown</td>\n",
       "      <td>Not categorized in NCSES crosswalk</td>\n",
       "      <td>Not categorized in NCSES crosswalk</td>\n",
       "      <td>Not categorized in NCSES crosswalk</td>\n",
       "      <td>Non-science and engineering</td>\n",
       "      <td>False</td>\n",
       "    </tr>\n",
       "    <tr>\n",
       "      <th>02.0306</th>\n",
       "      <td>Unknown</td>\n",
       "      <td>Not categorized in NCSES crosswalk</td>\n",
       "      <td>Not categorized in NCSES crosswalk</td>\n",
       "      <td>Not categorized in NCSES crosswalk</td>\n",
       "      <td>Non-science and engineering</td>\n",
       "      <td>False</td>\n",
       "    </tr>\n",
       "    <tr>\n",
       "      <th>...</th>\n",
       "      <td>...</td>\n",
       "      <td>...</td>\n",
       "      <td>...</td>\n",
       "      <td>...</td>\n",
       "      <td>...</td>\n",
       "      <td>...</td>\n",
       "    </tr>\n",
       "    <tr>\n",
       "      <th>61.2701</th>\n",
       "      <td>Unknown</td>\n",
       "      <td>Not categorized in NCSES crosswalk</td>\n",
       "      <td>Not categorized in NCSES crosswalk</td>\n",
       "      <td>Not categorized in NCSES crosswalk</td>\n",
       "      <td>Non-science and engineering</td>\n",
       "      <td>False</td>\n",
       "    </tr>\n",
       "    <tr>\n",
       "      <th>61.2707</th>\n",
       "      <td>Unknown</td>\n",
       "      <td>Not categorized in NCSES crosswalk</td>\n",
       "      <td>Not categorized in NCSES crosswalk</td>\n",
       "      <td>Not categorized in NCSES crosswalk</td>\n",
       "      <td>Non-science and engineering</td>\n",
       "      <td>False</td>\n",
       "    </tr>\n",
       "    <tr>\n",
       "      <th>61.2801</th>\n",
       "      <td>Unknown</td>\n",
       "      <td>Not categorized in NCSES crosswalk</td>\n",
       "      <td>Not categorized in NCSES crosswalk</td>\n",
       "      <td>Not categorized in NCSES crosswalk</td>\n",
       "      <td>Non-science and engineering</td>\n",
       "      <td>False</td>\n",
       "    </tr>\n",
       "    <tr>\n",
       "      <th>80.9999</th>\n",
       "      <td>Unknown</td>\n",
       "      <td>Not categorized in NCSES crosswalk</td>\n",
       "      <td>Not categorized in NCSES crosswalk</td>\n",
       "      <td>Not categorized in NCSES crosswalk</td>\n",
       "      <td>Non-science and engineering</td>\n",
       "      <td>False</td>\n",
       "    </tr>\n",
       "    <tr>\n",
       "      <th>95.0000</th>\n",
       "      <td>Unknown</td>\n",
       "      <td>Not categorized in NCSES crosswalk</td>\n",
       "      <td>Not categorized in NCSES crosswalk</td>\n",
       "      <td>Not categorized in NCSES crosswalk</td>\n",
       "      <td>Non-science and engineering</td>\n",
       "      <td>False</td>\n",
       "    </tr>\n",
       "  </tbody>\n",
       "</table>\n",
       "<p>159 rows × 6 columns</p>\n",
       "</div>"
      ],
      "text/plain": [
       "        cip_title                     ncses_sci_group  \\\n",
       "cip2020                                                 \n",
       "02.0207   Unknown  Not categorized in NCSES crosswalk   \n",
       "02.0302   Unknown  Not categorized in NCSES crosswalk   \n",
       "02.0303   Unknown  Not categorized in NCSES crosswalk   \n",
       "02.0304   Unknown  Not categorized in NCSES crosswalk   \n",
       "02.0306   Unknown  Not categorized in NCSES crosswalk   \n",
       "...           ...                                 ...   \n",
       "61.2701   Unknown  Not categorized in NCSES crosswalk   \n",
       "61.2707   Unknown  Not categorized in NCSES crosswalk   \n",
       "61.2801   Unknown  Not categorized in NCSES crosswalk   \n",
       "80.9999   Unknown  Not categorized in NCSES crosswalk   \n",
       "95.0000   Unknown  Not categorized in NCSES crosswalk   \n",
       "\n",
       "                          ncses_field_group  \\\n",
       "cip2020                                       \n",
       "02.0207  Not categorized in NCSES crosswalk   \n",
       "02.0302  Not categorized in NCSES crosswalk   \n",
       "02.0303  Not categorized in NCSES crosswalk   \n",
       "02.0304  Not categorized in NCSES crosswalk   \n",
       "02.0306  Not categorized in NCSES crosswalk   \n",
       "...                                     ...   \n",
       "61.2701  Not categorized in NCSES crosswalk   \n",
       "61.2707  Not categorized in NCSES crosswalk   \n",
       "61.2801  Not categorized in NCSES crosswalk   \n",
       "80.9999  Not categorized in NCSES crosswalk   \n",
       "95.0000  Not categorized in NCSES crosswalk   \n",
       "\n",
       "                 ncses_detailed_field_group              nsf_broad_field  \\\n",
       "cip2020                                                                    \n",
       "02.0207  Not categorized in NCSES crosswalk  Non-science and engineering   \n",
       "02.0302  Not categorized in NCSES crosswalk  Non-science and engineering   \n",
       "02.0303  Not categorized in NCSES crosswalk  Non-science and engineering   \n",
       "02.0304  Not categorized in NCSES crosswalk  Non-science and engineering   \n",
       "02.0306  Not categorized in NCSES crosswalk  Non-science and engineering   \n",
       "...                                     ...                          ...   \n",
       "61.2701  Not categorized in NCSES crosswalk  Non-science and engineering   \n",
       "61.2707  Not categorized in NCSES crosswalk  Non-science and engineering   \n",
       "61.2801  Not categorized in NCSES crosswalk  Non-science and engineering   \n",
       "80.9999  Not categorized in NCSES crosswalk  Non-science and engineering   \n",
       "95.0000  Not categorized in NCSES crosswalk  Non-science and engineering   \n",
       "\n",
       "         dhs_stem  \n",
       "cip2020            \n",
       "02.0207     False  \n",
       "02.0302     False  \n",
       "02.0303     False  \n",
       "02.0304     False  \n",
       "02.0306     False  \n",
       "...           ...  \n",
       "61.2701     False  \n",
       "61.2707     False  \n",
       "61.2801     False  \n",
       "80.9999     False  \n",
       "95.0000     False  \n",
       "\n",
       "[159 rows x 6 columns]"
      ]
     },
     "execution_count": 7,
     "metadata": {},
     "output_type": "execute_result"
    }
   ],
   "source": [
    "cipdf = engine.get_cip_table()\n",
    "cipdf[cipdf['cip_title'] == \"Unknown\"]"
   ]
  },
  {
   "cell_type": "code",
   "execution_count": 8,
   "id": "3efcc2f0-dc21-4226-93a8-4b8e3300dd9e",
   "metadata": {},
   "outputs": [
    {
     "data": {
      "text/html": [
       "<div>\n",
       "<style scoped>\n",
       "    .dataframe tbody tr th:only-of-type {\n",
       "        vertical-align: middle;\n",
       "    }\n",
       "\n",
       "    .dataframe tbody tr th {\n",
       "        vertical-align: top;\n",
       "    }\n",
       "\n",
       "    .dataframe thead th {\n",
       "        text-align: right;\n",
       "    }\n",
       "</style>\n",
       "<table border=\"1\" class=\"dataframe\">\n",
       "  <thead>\n",
       "    <tr style=\"text-align: right;\">\n",
       "      <th></th>\n",
       "      <th>cip2020</th>\n",
       "      <th>gender</th>\n",
       "      <th>year</th>\n",
       "      <th>field_degrees_within_gender</th>\n",
       "      <th>field_degrees_total</th>\n",
       "      <th>uni_degrees_within_gender</th>\n",
       "      <th>uni_degrees_total</th>\n",
       "      <th>cip_title</th>\n",
       "      <th>ncses_sci_group</th>\n",
       "      <th>ncses_field_group</th>\n",
       "      <th>ncses_detailed_field_group</th>\n",
       "      <th>nsf_broad_field</th>\n",
       "      <th>dhs_stem</th>\n",
       "    </tr>\n",
       "  </thead>\n",
       "  <tbody>\n",
       "    <tr>\n",
       "      <th>0</th>\n",
       "      <td>01.0000</td>\n",
       "      <td>men</td>\n",
       "      <td>1984</td>\n",
       "      <td>1779</td>\n",
       "      <td>2354</td>\n",
       "      <td>983227</td>\n",
       "      <td>1991889</td>\n",
       "      <td>Agriculture, Agriculture Operations And Relate...</td>\n",
       "      <td>Science and engineering</td>\n",
       "      <td>Life Sciences</td>\n",
       "      <td>Agricultural Sciences</td>\n",
       "      <td>Agricultural and biological sciences</td>\n",
       "      <td>False</td>\n",
       "    </tr>\n",
       "    <tr>\n",
       "      <th>1</th>\n",
       "      <td>01.0000</td>\n",
       "      <td>men</td>\n",
       "      <td>1985</td>\n",
       "      <td>1649</td>\n",
       "      <td>2222</td>\n",
       "      <td>980838</td>\n",
       "      <td>2004285</td>\n",
       "      <td>Agriculture, Agriculture Operations And Relate...</td>\n",
       "      <td>Science and engineering</td>\n",
       "      <td>Life Sciences</td>\n",
       "      <td>Agricultural Sciences</td>\n",
       "      <td>Agricultural and biological sciences</td>\n",
       "      <td>False</td>\n",
       "    </tr>\n",
       "    <tr>\n",
       "      <th>2</th>\n",
       "      <td>01.0000</td>\n",
       "      <td>men</td>\n",
       "      <td>1986</td>\n",
       "      <td>1451</td>\n",
       "      <td>1974</td>\n",
       "      <td>975329</td>\n",
       "      <td>2008295</td>\n",
       "      <td>Agriculture, Agriculture Operations And Relate...</td>\n",
       "      <td>Science and engineering</td>\n",
       "      <td>Life Sciences</td>\n",
       "      <td>Agricultural Sciences</td>\n",
       "      <td>Agricultural and biological sciences</td>\n",
       "      <td>False</td>\n",
       "    </tr>\n",
       "    <tr>\n",
       "      <th>3</th>\n",
       "      <td>01.0000</td>\n",
       "      <td>men</td>\n",
       "      <td>1987</td>\n",
       "      <td>1218</td>\n",
       "      <td>1705</td>\n",
       "      <td>1036892</td>\n",
       "      <td>2163263</td>\n",
       "      <td>Agriculture, Agriculture Operations And Relate...</td>\n",
       "      <td>Science and engineering</td>\n",
       "      <td>Life Sciences</td>\n",
       "      <td>Agricultural Sciences</td>\n",
       "      <td>Agricultural and biological sciences</td>\n",
       "      <td>False</td>\n",
       "    </tr>\n",
       "    <tr>\n",
       "      <th>4</th>\n",
       "      <td>01.0000</td>\n",
       "      <td>men</td>\n",
       "      <td>1988</td>\n",
       "      <td>1192</td>\n",
       "      <td>1644</td>\n",
       "      <td>1112371</td>\n",
       "      <td>2324652</td>\n",
       "      <td>Agriculture, Agriculture Operations And Relate...</td>\n",
       "      <td>Science and engineering</td>\n",
       "      <td>Life Sciences</td>\n",
       "      <td>Agricultural Sciences</td>\n",
       "      <td>Agricultural and biological sciences</td>\n",
       "      <td>False</td>\n",
       "    </tr>\n",
       "  </tbody>\n",
       "</table>\n",
       "</div>"
      ],
      "text/plain": [
       "   cip2020 gender  year  field_degrees_within_gender  field_degrees_total  \\\n",
       "0  01.0000    men  1984                         1779                 2354   \n",
       "1  01.0000    men  1985                         1649                 2222   \n",
       "2  01.0000    men  1986                         1451                 1974   \n",
       "3  01.0000    men  1987                         1218                 1705   \n",
       "4  01.0000    men  1988                         1192                 1644   \n",
       "\n",
       "   uni_degrees_within_gender  uni_degrees_total  \\\n",
       "0                     983227            1991889   \n",
       "1                     980838            2004285   \n",
       "2                     975329            2008295   \n",
       "3                    1036892            2163263   \n",
       "4                    1112371            2324652   \n",
       "\n",
       "                                           cip_title          ncses_sci_group  \\\n",
       "0  Agriculture, Agriculture Operations And Relate...  Science and engineering   \n",
       "1  Agriculture, Agriculture Operations And Relate...  Science and engineering   \n",
       "2  Agriculture, Agriculture Operations And Relate...  Science and engineering   \n",
       "3  Agriculture, Agriculture Operations And Relate...  Science and engineering   \n",
       "4  Agriculture, Agriculture Operations And Relate...  Science and engineering   \n",
       "\n",
       "  ncses_field_group ncses_detailed_field_group  \\\n",
       "0     Life Sciences      Agricultural Sciences   \n",
       "1     Life Sciences      Agricultural Sciences   \n",
       "2     Life Sciences      Agricultural Sciences   \n",
       "3     Life Sciences      Agricultural Sciences   \n",
       "4     Life Sciences      Agricultural Sciences   \n",
       "\n",
       "                        nsf_broad_field  dhs_stem  \n",
       "0  Agricultural and biological sciences     False  \n",
       "1  Agricultural and biological sciences     False  \n",
       "2  Agricultural and biological sciences     False  \n",
       "3  Agricultural and biological sciences     False  \n",
       "4  Agricultural and biological sciences     False  "
      ]
     },
     "execution_count": 8,
     "metadata": {},
     "output_type": "execute_result"
    }
   ],
   "source": [
    "df_w_cip = pd.merge(\n",
    "    df, cipdf,\n",
    "    left_on=FieldTaxonomy.cip, left_index=False,\n",
    "    right_index=True, \n",
    "    validate='many_to_one'\n",
    ")\n",
    "df_w_cip.head()"
   ]
  },
  {
   "cell_type": "code",
   "execution_count": 9,
   "id": "826b15e9-40c2-4f48-a37c-42c94ecab418",
   "metadata": {},
   "outputs": [
    {
     "data": {
      "text/plain": [
       "year\n",
       "1984    123\n",
       "1985    132\n",
       "1986    129\n",
       "1987     52\n",
       "1988     41\n",
       "1989     42\n",
       "1990     48\n",
       "1991     39\n",
       "1992      1\n",
       "1993      1\n",
       "1994      1\n",
       "dtype: int64"
      ]
     },
     "execution_count": 9,
     "metadata": {},
     "output_type": "execute_result"
    }
   ],
   "source": [
    "# How many unique unclassified CIPs per year?\n",
    "df_w_cip[df_w_cip['cip_title'] == \"Unknown\"][['year', FieldTaxonomy.cip]].drop_duplicates().groupby('year').size()"
   ]
  },
  {
   "cell_type": "code",
   "execution_count": 10,
   "id": "e5354535-c49d-4922-9099-5a7a2b3eaf7f",
   "metadata": {},
   "outputs": [
    {
     "data": {
      "text/plain": [
       "year\n",
       "1984    806\n",
       "1985    819\n",
       "1986    814\n",
       "1987    754\n",
       "1988    742\n",
       "1989    744\n",
       "1990    747\n",
       "1991    739\n",
       "1992    829\n",
       "1993    829\n",
       "1994    825\n",
       "dtype: int64"
      ]
     },
     "execution_count": 10,
     "metadata": {},
     "output_type": "execute_result"
    }
   ],
   "source": [
    "# How many total CIPs per year?\n",
    "df_w_cip[['year', FieldTaxonomy.cip]].drop_duplicates().groupby('year').size()"
   ]
  },
  {
   "cell_type": "markdown",
   "id": "f101a740-93d4-4247-9f19-d17be8b3df01",
   "metadata": {},
   "source": [
    "Ok so for earlier years it's like half of the CIPs that aren't classified.\n",
    "\n",
    "We need to figure out why these CIPs aren't being classified. Likely becuase they're not in the 85 -> 90 classifier?"
   ]
  },
  {
   "cell_type": "code",
   "execution_count": 11,
   "id": "f34ebfea-ecf4-465e-bd35-b40f55c1574a",
   "metadata": {},
   "outputs": [
    {
     "data": {
      "text/html": [
       "<div>\n",
       "<style scoped>\n",
       "    .dataframe tbody tr th:only-of-type {\n",
       "        vertical-align: middle;\n",
       "    }\n",
       "\n",
       "    .dataframe tbody tr th {\n",
       "        vertical-align: top;\n",
       "    }\n",
       "\n",
       "    .dataframe thead th {\n",
       "        text-align: right;\n",
       "    }\n",
       "</style>\n",
       "<table border=\"1\" class=\"dataframe\">\n",
       "  <thead>\n",
       "    <tr style=\"text-align: right;\">\n",
       "      <th></th>\n",
       "      <th>year</th>\n",
       "      <th>cip2020</th>\n",
       "    </tr>\n",
       "  </thead>\n",
       "  <tbody>\n",
       "    <tr>\n",
       "      <th>1027</th>\n",
       "      <td>1984</td>\n",
       "      <td>02.0207</td>\n",
       "    </tr>\n",
       "    <tr>\n",
       "      <th>1028</th>\n",
       "      <td>1985</td>\n",
       "      <td>02.0207</td>\n",
       "    </tr>\n",
       "    <tr>\n",
       "      <th>1029</th>\n",
       "      <td>1986</td>\n",
       "      <td>02.0207</td>\n",
       "    </tr>\n",
       "    <tr>\n",
       "      <th>1033</th>\n",
       "      <td>1984</td>\n",
       "      <td>02.0302</td>\n",
       "    </tr>\n",
       "    <tr>\n",
       "      <th>1034</th>\n",
       "      <td>1985</td>\n",
       "      <td>02.0302</td>\n",
       "    </tr>\n",
       "  </tbody>\n",
       "</table>\n",
       "</div>"
      ],
      "text/plain": [
       "      year  cip2020\n",
       "1027  1984  02.0207\n",
       "1028  1985  02.0207\n",
       "1029  1986  02.0207\n",
       "1033  1984  02.0302\n",
       "1034  1985  02.0302"
      ]
     },
     "execution_count": 11,
     "metadata": {},
     "output_type": "execute_result"
    }
   ],
   "source": [
    "unknown_cips = df_w_cip[df_w_cip['cip_title'] == \"Unknown\"][['year', FieldTaxonomy.cip]].drop_duplicates()\n",
    "unknown_cips.head()"
   ]
  },
  {
   "cell_type": "code",
   "execution_count": 12,
   "id": "d563b876-432f-4aa7-ba16-fd645eb182af",
   "metadata": {},
   "outputs": [
    {
     "data": {
      "text/html": [
       "<div>\n",
       "<style scoped>\n",
       "    .dataframe tbody tr th:only-of-type {\n",
       "        vertical-align: middle;\n",
       "    }\n",
       "\n",
       "    .dataframe tbody tr th {\n",
       "        vertical-align: top;\n",
       "    }\n",
       "\n",
       "    .dataframe thead th {\n",
       "        text-align: right;\n",
       "    }\n",
       "</style>\n",
       "<table border=\"1\" class=\"dataframe\">\n",
       "  <thead>\n",
       "    <tr style=\"text-align: right;\">\n",
       "      <th></th>\n",
       "      <th>year</th>\n",
       "      <th>cip2020</th>\n",
       "    </tr>\n",
       "  </thead>\n",
       "  <tbody>\n",
       "  </tbody>\n",
       "</table>\n",
       "</div>"
      ],
      "text/plain": [
       "Empty DataFrame\n",
       "Columns: [year, cip2020]\n",
       "Index: []"
      ]
     },
     "execution_count": 12,
     "metadata": {},
     "output_type": "execute_result"
    }
   ],
   "source": [
    "unknown_cips[unknown_cips[FieldTaxonomy.cip] == \"01.0202\"]"
   ]
  },
  {
   "attachments": {},
   "cell_type": "markdown",
   "id": "c2e62621-8437-42a0-9ff4-a382db85d0ca",
   "metadata": {},
   "source": [
    "01.0202\n",
    "- listed as \"10202 - Agricultural Electrification Power and Controls\" in the 1985 data dictionary.\n",
    "- Only has one degree?\n",
    "\n",
    "Let's see how many _students_ these unknowns represent per year"
   ]
  },
  {
   "cell_type": "code",
   "execution_count": 13,
   "id": "7017b472-127e-43f8-aeb9-7772fdc6e2cf",
   "metadata": {},
   "outputs": [
    {
     "data": {
      "text/plain": [
       "year\n",
       "1984     20380\n",
       "1985     21083\n",
       "1986     23703\n",
       "1987      3981\n",
       "1988     80657\n",
       "1989    138020\n",
       "1990     30948\n",
       "1991     69562\n",
       "1992     51136\n",
       "1993     30515\n",
       "1994     20746\n",
       "Name: field_degrees_total, dtype: int64"
      ]
     },
     "execution_count": 13,
     "metadata": {},
     "output_type": "execute_result"
    }
   ],
   "source": [
    "df_w_cip[df_w_cip['cip_title'] == \"Unknown\"][['year', FieldTaxonomy.cip, \"field_degrees_total\"]].drop_duplicates().groupby('year')[\"field_degrees_total\"].sum()"
   ]
  },
  {
   "cell_type": "markdown",
   "id": "1b16cb27-a988-4314-9619-97b72008075e",
   "metadata": {},
   "source": [
    "Uhhh wait is that _all_ of the degrees in 1984?"
   ]
  },
  {
   "cell_type": "code",
   "execution_count": 14,
   "id": "f1f7505d-2a82-4b41-bdd5-e771ca1105a1",
   "metadata": {},
   "outputs": [
    {
     "data": {
      "text/html": [
       "<div>\n",
       "<style scoped>\n",
       "    .dataframe tbody tr th:only-of-type {\n",
       "        vertical-align: middle;\n",
       "    }\n",
       "\n",
       "    .dataframe tbody tr th {\n",
       "        vertical-align: top;\n",
       "    }\n",
       "\n",
       "    .dataframe thead th {\n",
       "        text-align: right;\n",
       "    }\n",
       "</style>\n",
       "<table border=\"1\" class=\"dataframe\">\n",
       "  <thead>\n",
       "    <tr style=\"text-align: right;\">\n",
       "      <th></th>\n",
       "      <th>year</th>\n",
       "      <th>uni_degrees_total</th>\n",
       "    </tr>\n",
       "  </thead>\n",
       "  <tbody>\n",
       "    <tr>\n",
       "      <th>0</th>\n",
       "      <td>1984</td>\n",
       "      <td>1991889</td>\n",
       "    </tr>\n",
       "    <tr>\n",
       "      <th>1</th>\n",
       "      <td>1985</td>\n",
       "      <td>2004285</td>\n",
       "    </tr>\n",
       "    <tr>\n",
       "      <th>2</th>\n",
       "      <td>1986</td>\n",
       "      <td>2008295</td>\n",
       "    </tr>\n",
       "    <tr>\n",
       "      <th>3</th>\n",
       "      <td>1987</td>\n",
       "      <td>2163263</td>\n",
       "    </tr>\n",
       "    <tr>\n",
       "      <th>4</th>\n",
       "      <td>1988</td>\n",
       "      <td>2324652</td>\n",
       "    </tr>\n",
       "    <tr>\n",
       "      <th>5</th>\n",
       "      <td>1989</td>\n",
       "      <td>2412546</td>\n",
       "    </tr>\n",
       "    <tr>\n",
       "      <th>6</th>\n",
       "      <td>1990</td>\n",
       "      <td>2320375</td>\n",
       "    </tr>\n",
       "    <tr>\n",
       "      <th>7</th>\n",
       "      <td>1991</td>\n",
       "      <td>2408979</td>\n",
       "    </tr>\n",
       "    <tr>\n",
       "      <th>8</th>\n",
       "      <td>1992</td>\n",
       "      <td>2550460</td>\n",
       "    </tr>\n",
       "    <tr>\n",
       "      <th>9</th>\n",
       "      <td>1993</td>\n",
       "      <td>2616641</td>\n",
       "    </tr>\n",
       "    <tr>\n",
       "      <th>10</th>\n",
       "      <td>1994</td>\n",
       "      <td>2682879</td>\n",
       "    </tr>\n",
       "  </tbody>\n",
       "</table>\n",
       "</div>"
      ],
      "text/plain": [
       "    year  uni_degrees_total\n",
       "0   1984            1991889\n",
       "1   1985            2004285\n",
       "2   1986            2008295\n",
       "3   1987            2163263\n",
       "4   1988            2324652\n",
       "5   1989            2412546\n",
       "6   1990            2320375\n",
       "7   1991            2408979\n",
       "8   1992            2550460\n",
       "9   1993            2616641\n",
       "10  1994            2682879"
      ]
     },
     "execution_count": 14,
     "metadata": {},
     "output_type": "execute_result"
    }
   ],
   "source": [
    "df_w_cip[['year', 'uni_degrees_total']].drop_duplicates()"
   ]
  },
  {
   "cell_type": "code",
   "execution_count": 15,
   "id": "65e09ab6-d81c-4c60-bc88-cc198cb9bc02",
   "metadata": {},
   "outputs": [
    {
     "data": {
      "text/html": [
       "<div>\n",
       "<style scoped>\n",
       "    .dataframe tbody tr th:only-of-type {\n",
       "        vertical-align: middle;\n",
       "    }\n",
       "\n",
       "    .dataframe tbody tr th {\n",
       "        vertical-align: top;\n",
       "    }\n",
       "\n",
       "    .dataframe thead th {\n",
       "        text-align: right;\n",
       "    }\n",
       "</style>\n",
       "<table border=\"1\" class=\"dataframe\">\n",
       "  <thead>\n",
       "    <tr style=\"text-align: right;\">\n",
       "      <th></th>\n",
       "      <th>year</th>\n",
       "      <th>uni_degrees_total</th>\n",
       "      <th>unknown_cip_total</th>\n",
       "      <th>fraction_unknown_cips</th>\n",
       "    </tr>\n",
       "  </thead>\n",
       "  <tbody>\n",
       "    <tr>\n",
       "      <th>0</th>\n",
       "      <td>1984</td>\n",
       "      <td>1991889</td>\n",
       "      <td>20380</td>\n",
       "      <td>0.010231</td>\n",
       "    </tr>\n",
       "    <tr>\n",
       "      <th>1</th>\n",
       "      <td>1985</td>\n",
       "      <td>2004285</td>\n",
       "      <td>21083</td>\n",
       "      <td>0.010519</td>\n",
       "    </tr>\n",
       "    <tr>\n",
       "      <th>2</th>\n",
       "      <td>1986</td>\n",
       "      <td>2008295</td>\n",
       "      <td>23703</td>\n",
       "      <td>0.011803</td>\n",
       "    </tr>\n",
       "    <tr>\n",
       "      <th>3</th>\n",
       "      <td>1987</td>\n",
       "      <td>2163263</td>\n",
       "      <td>3981</td>\n",
       "      <td>0.001840</td>\n",
       "    </tr>\n",
       "    <tr>\n",
       "      <th>4</th>\n",
       "      <td>1988</td>\n",
       "      <td>2324652</td>\n",
       "      <td>80657</td>\n",
       "      <td>0.034696</td>\n",
       "    </tr>\n",
       "    <tr>\n",
       "      <th>5</th>\n",
       "      <td>1989</td>\n",
       "      <td>2412546</td>\n",
       "      <td>138020</td>\n",
       "      <td>0.057209</td>\n",
       "    </tr>\n",
       "    <tr>\n",
       "      <th>6</th>\n",
       "      <td>1990</td>\n",
       "      <td>2320375</td>\n",
       "      <td>30948</td>\n",
       "      <td>0.013337</td>\n",
       "    </tr>\n",
       "    <tr>\n",
       "      <th>7</th>\n",
       "      <td>1991</td>\n",
       "      <td>2408979</td>\n",
       "      <td>69562</td>\n",
       "      <td>0.028876</td>\n",
       "    </tr>\n",
       "    <tr>\n",
       "      <th>8</th>\n",
       "      <td>1992</td>\n",
       "      <td>2550460</td>\n",
       "      <td>51136</td>\n",
       "      <td>0.020050</td>\n",
       "    </tr>\n",
       "    <tr>\n",
       "      <th>9</th>\n",
       "      <td>1993</td>\n",
       "      <td>2616641</td>\n",
       "      <td>30515</td>\n",
       "      <td>0.011662</td>\n",
       "    </tr>\n",
       "    <tr>\n",
       "      <th>10</th>\n",
       "      <td>1994</td>\n",
       "      <td>2682879</td>\n",
       "      <td>20746</td>\n",
       "      <td>0.007733</td>\n",
       "    </tr>\n",
       "  </tbody>\n",
       "</table>\n",
       "</div>"
      ],
      "text/plain": [
       "    year  uni_degrees_total  unknown_cip_total  fraction_unknown_cips\n",
       "0   1984            1991889              20380               0.010231\n",
       "1   1985            2004285              21083               0.010519\n",
       "2   1986            2008295              23703               0.011803\n",
       "3   1987            2163263               3981               0.001840\n",
       "4   1988            2324652              80657               0.034696\n",
       "5   1989            2412546             138020               0.057209\n",
       "6   1990            2320375              30948               0.013337\n",
       "7   1991            2408979              69562               0.028876\n",
       "8   1992            2550460              51136               0.020050\n",
       "9   1993            2616641              30515               0.011662\n",
       "10  1994            2682879              20746               0.007733"
      ]
     },
     "execution_count": 15,
     "metadata": {},
     "output_type": "execute_result"
    }
   ],
   "source": [
    "proportion_missing = pd.merge(\n",
    "    df_w_cip[['year', 'uni_degrees_total']].drop_duplicates(),\n",
    "    df_w_cip[df_w_cip['cip_title'] == \"Unknown\"][['year', FieldTaxonomy.cip, \"field_degrees_total\"]].drop_duplicates().groupby('year')[\"field_degrees_total\"].sum(),\n",
    "    right_index=True,\n",
    "    left_on='year'\n",
    ").rename(columns={'field_degrees_total': 'unknown_cip_total'})\n",
    "\n",
    "proportion_missing['fraction_unknown_cips'] = proportion_missing['unknown_cip_total'] / proportion_missing['uni_degrees_total']\n",
    "\n",
    "proportion_missing"
   ]
  },
  {
   "cell_type": "markdown",
   "id": "06e8bfdf-174a-4cb8-bef0-05a3578636be",
   "metadata": {},
   "source": [
    "Ok, let's start with the biggest unknowns for 84-86 and see if we can find them."
   ]
  },
  {
   "cell_type": "code",
   "execution_count": 16,
   "id": "fe5361ae-ec96-441e-856c-836d5418a03b",
   "metadata": {},
   "outputs": [
    {
     "name": "stderr",
     "output_type": "stream",
     "text": [
      "/var/folders/87/tp5jbk1x7zx0c0tx8zqvrxjr0000gp/T/ipykernel_61097/937130514.py:5: FutureWarning: The default of observed=False is deprecated and will be changed to True in a future version of pandas. Pass observed=False to retain current behavior or observed=True to adopt the future default and silence this warning.\n",
      "  .groupby([FieldTaxonomy.cip])\n"
     ]
    },
    {
     "data": {
      "text/plain": [
       "cip2020\n",
       "07.0608    27320\n",
       "50.0801    14874\n",
       "47.0602    14642\n",
       "20.0102     9914\n",
       "15.0604     6398\n",
       "           ...  \n",
       "16.0906        0\n",
       "16.0908        0\n",
       "16.0999        0\n",
       "16.1001        0\n",
       "95.9500        0\n",
       "Name: field_degrees_total, Length: 2518, dtype: int64"
      ]
     },
     "execution_count": 16,
     "metadata": {},
     "output_type": "execute_result"
    }
   ],
   "source": [
    "(\n",
    "    df_w_cip[\n",
    "        (df_w_cip['cip_title'] == \"Unknown\") & (df_w_cip['year'].isin([1984, 1985, 1986]))\n",
    "    ]\n",
    "    .groupby([FieldTaxonomy.cip])\n",
    "    ['field_degrees_total']\n",
    "    .sum()\n",
    ").sort_values(ascending=False)"
   ]
  },
  {
   "cell_type": "code",
   "execution_count": 17,
   "id": "4c258de2-af4e-47ff-8d8e-23ccf1e0218a",
   "metadata": {},
   "outputs": [
    {
     "name": "stderr",
     "output_type": "stream",
     "text": [
      "/var/folders/87/tp5jbk1x7zx0c0tx8zqvrxjr0000gp/T/ipykernel_61097/1231911568.py:6: FutureWarning: The default of observed=False is deprecated and will be changed to True in a future version of pandas. Pass observed=False to retain current behavior or observed=True to adopt the future default and silence this warning.\n",
      "  .groupby([FieldTaxonomy.cip])\n"
     ]
    },
    {
     "data": {
      "text/plain": [
       "cip2020\n",
       "95.0000    176038\n",
       "20.0102     13134\n",
       "20.0101      1878\n",
       "61.2601      1428\n",
       "20.0109      1230\n",
       "            ...  \n",
       "16.0402         0\n",
       "16.0403         0\n",
       "16.0406         0\n",
       "16.0407         0\n",
       "95.9500         0\n",
       "Name: field_degrees_total, Length: 2518, dtype: int64"
      ]
     },
     "execution_count": 17,
     "metadata": {},
     "output_type": "execute_result"
    }
   ],
   "source": [
    "# Now 1990 is the worst offender, what's up?\n",
    "(\n",
    "    df_w_cip[\n",
    "        (df_w_cip['cip_title'] == \"Unknown\") & (df_w_cip['year'].isin([1990, 1991]))\n",
    "    ]\n",
    "    .groupby([FieldTaxonomy.cip])\n",
    "    ['field_degrees_total']\n",
    "    .sum()\n",
    ").sort_values(ascending=False)"
   ]
  },
  {
   "cell_type": "markdown",
   "id": "125ed147-4f74-4d37-b82e-166e0598fc0d",
   "metadata": {},
   "source": [
    "# 2/21 update:\n",
    "\n",
    "Uhhh... 06.0401 is back to causing trouble. I've gotten all the other years way down, need to figure out what's up with the 1990 and 1991 CIPs but it's too late and my brain is tired."
   ]
  },
  {
   "attachments": {},
   "cell_type": "markdown",
   "id": "44c7e40a-4f45-464a-9441-db6b79b45cc1",
   "metadata": {},
   "source": [
    "06.0401 is in the CIP85toCIP90 crosswalk! \n",
    "\n",
    "`06.0401\tBusiness Administration\t52.0201\tBusiness Administration & Management, General`"
   ]
  },
  {
   "cell_type": "markdown",
   "id": "23f06344-0d09-4ab7-9008-3b09bb0f5b22",
   "metadata": {},
   "source": [
    "Oh, we just weren't reading in that crosswalk. Let's try adding that to the code and then...\n",
    "\n",
    "Hm, now 06.0401 is being mapped correctly to its 1990 CIP code of 52.0201 but nothing after that."
   ]
  },
  {
   "cell_type": "code",
   "execution_count": 18,
   "id": "ccc8e0bb-c2e4-4ac5-8f48-6ee3941466eb",
   "metadata": {},
   "outputs": [
    {
     "data": {
      "text/plain": [
       "cip_title                     Business Administration and Management, General\n",
       "ncses_sci_group                                   Non-science and engineering\n",
       "ncses_field_group                                     Business and Management\n",
       "ncses_detailed_field_group                            Business and Management\n",
       "nsf_broad_field                                   Non-science and engineering\n",
       "dhs_stem                                                                False\n",
       "Name: 52.0201, dtype: object"
      ]
     },
     "execution_count": 18,
     "metadata": {},
     "output_type": "execute_result"
    }
   ],
   "source": [
    "cipdf.loc['52.0201']"
   ]
  },
  {
   "cell_type": "markdown",
   "id": "39002d7a-bae6-411b-9260-60085cddb4f3",
   "metadata": {},
   "source": [
    "Ok it's being mapped from 1985 to 1990 correctly, but then it's not present in the 1990 crosswalk. Does that mean it should just be propagated? Or it needs to be in the dict?"
   ]
  },
  {
   "cell_type": "markdown",
   "id": "fb10fad6-d91d-4e74-b455-1eee680cc3da",
   "metadata": {},
   "source": [
    "Update: it was becuase the NCSES classifier was only classifying the original CIP code, not the 2020 one. And this original cip code (1) doesn't have a cip title (bc the original crosswalk file didn't have one) and (2) isn't in the NCSES classifier.\n",
    "\n",
    "Ok so now we still have a bunch of missing codes, let's dig into those."
   ]
  },
  {
   "cell_type": "markdown",
   "id": "a3775bbc-8217-472e-bd93-7f8cf00a3d58",
   "metadata": {},
   "source": [
    "Update: the vast majority were \"total\" cips that weren't being seen. I fixed that.\n"
   ]
  },
  {
   "cell_type": "markdown",
   "id": "5469b730-d999-4eb4-93e2-25562e699430",
   "metadata": {},
   "source": [
    "Now it looks like the early 90's are most problematic. What's going on here? Let's look at 07.0305 as an example..."
   ]
  },
  {
   "cell_type": "code",
   "execution_count": 19,
   "id": "0101cd4b-3c7e-475d-8ca2-e1a2662c9ebe",
   "metadata": {},
   "outputs": [],
   "source": [
    "# cipdf.loc[\"07.0305\"]"
   ]
  },
  {
   "cell_type": "markdown",
   "id": "4fd8709c-5596-4281-bf27-a3209c7dab28",
   "metadata": {},
   "source": [
    "07.0305 Business Data Programming (from [here](https://nces.ed.gov/pubs91/91396.pdf))\n",
    "\n",
    "Not finding it in the NSF data or in the Excel with all the crosswalks. Uh oh...\n",
    "\n",
    "But also in that pdf, it looks like it SHOULD be in the 85 -> 90 crosswalk:\n",
    "\n",
    "07.0305 52.1202 Business Computer Programming/Programmer"
   ]
  },
  {
   "cell_type": "markdown",
   "id": "f96258a7-d25d-437f-bb18-38e0bd0f4ba6",
   "metadata": {},
   "source": [
    "What about the next most common one, `17.0602`?\n",
    "\n",
    "This one is also in the pdf but not in the Excel file...\n",
    "\n",
    "Same with this guy: 43.0105"
   ]
  },
  {
   "cell_type": "markdown",
   "id": "aaf0bbab-8e51-43b2-94ef-29adbdef12f3",
   "metadata": {},
   "source": [
    "# Read the crosswalk from the CIP 90 pdf\n",
    "\n",
    "https://nces.ed.gov/pubs91/91396.pdf\n",
    "\n",
    "I then opened the pdf in preview and dragged "
   ]
  },
  {
   "cell_type": "code",
   "execution_count": 20,
   "id": "b6c74159-5cf7-404a-8c80-0c6fd6938672",
   "metadata": {},
   "outputs": [],
   "source": [
    "import fitz  # PyMuPDF\n",
    "from pathlib import Path\n",
    "import pandas as pd"
   ]
  },
  {
   "cell_type": "code",
   "execution_count": 21,
   "id": "a4c79890-6179-41b7-a037-41fb178f9ce2",
   "metadata": {},
   "outputs": [
    {
     "data": {
      "text/html": [
       "<div>\n",
       "<style scoped>\n",
       "    .dataframe tbody tr th:only-of-type {\n",
       "        vertical-align: middle;\n",
       "    }\n",
       "\n",
       "    .dataframe tbody tr th {\n",
       "        vertical-align: top;\n",
       "    }\n",
       "\n",
       "    .dataframe thead th {\n",
       "        text-align: right;\n",
       "    }\n",
       "</style>\n",
       "<table border=\"1\" class=\"dataframe\">\n",
       "  <thead>\n",
       "    <tr style=\"text-align: right;\">\n",
       "      <th></th>\n",
       "      <th>CIP85</th>\n",
       "      <th>CIP90</th>\n",
       "      <th>CIP90TITLE</th>\n",
       "    </tr>\n",
       "  </thead>\n",
       "  <tbody>\n",
       "    <tr>\n",
       "      <th>0</th>\n",
       "      <td>01.0101</td>\n",
       "      <td>01.0101</td>\n",
       "      <td>Agricultural Business and Management, General</td>\n",
       "    </tr>\n",
       "    <tr>\n",
       "      <th>1</th>\n",
       "      <td>01.0102</td>\n",
       "      <td>01.0102</td>\n",
       "      <td>Agricultural Business/Agribusiness Operations</td>\n",
       "    </tr>\n",
       "    <tr>\n",
       "      <th>2</th>\n",
       "      <td>01.0103</td>\n",
       "      <td>01.0103</td>\n",
       "      <td>Agricultural Economics</td>\n",
       "    </tr>\n",
       "    <tr>\n",
       "      <th>3</th>\n",
       "      <td>01.0104</td>\n",
       "      <td>01.0104</td>\n",
       "      <td>Farm and Ranch Management</td>\n",
       "    </tr>\n",
       "    <tr>\n",
       "      <th>4</th>\n",
       "      <td>01.0199</td>\n",
       "      <td>01.0199</td>\n",
       "      <td>Agricultural Business and Management, Other</td>\n",
       "    </tr>\n",
       "  </tbody>\n",
       "</table>\n",
       "</div>"
      ],
      "text/plain": [
       "     CIP85    CIP90                                     CIP90TITLE\n",
       "0  01.0101  01.0101  Agricultural Business and Management, General\n",
       "1  01.0102  01.0102  Agricultural Business/Agribusiness Operations\n",
       "2  01.0103  01.0103                         Agricultural Economics\n",
       "3  01.0104  01.0104                      Farm and Ranch Management\n",
       "4  01.0199  01.0199    Agricultural Business and Management, Other"
      ]
     },
     "execution_count": 21,
     "metadata": {},
     "output_type": "execute_result"
    }
   ],
   "source": [
    "\n",
    "\n",
    "# Open the PDF file\n",
    "pdf_path = Path(\"pipeline/assets/91396_subset.pdf\")\n",
    "doc = fitz.open(pdf_path)\n",
    "\n",
    "# Extract text from all pages\n",
    "pdf_text = '\\n'.join([page.get_text(\"text\") for page in doc])\n",
    "\n",
    "pdf_text = pdf_text.split('\\n')\n",
    "\n",
    "pdf_text = pdf_text[16:]\n",
    "\n",
    "# Remove the Chapter lines\n",
    "ch_idx_to_remove = {\n",
    "    'CHAPTER TWO': [-1, 1], # Ch. 2 has an empty string before the CHAPTER TWO line\n",
    "    'CHAPTER THREE': [0, 1],\n",
    "    'CHAPTER FOUR': [0, 1],\n",
    "    'CHAPTER FIVE': [-1, 1],\n",
    "    'CHAPTER SIX': [-1, 1]\n",
    "}\n",
    "rm_idxs = []\n",
    "for k, v in ch_idx_to_remove.items():\n",
    "    i = pdf_text.index(k)\n",
    "    rm_idxs += list(range(i + v[0], i + v[1] + 1))\n",
    "\n",
    "pdf_text = [t for i, t in enumerate(pdf_text) if i not in rm_idxs]\n",
    "\n",
    "# Remove deleted CIP codes, they don't have a 90 CIP\n",
    "deleted_idxs = [i for i, t in enumerate(pdf_text) if t == \"Deleted\"]\n",
    "rm_idxs = []\n",
    "for i in deleted_idxs:\n",
    "    rm_idxs += [i-1, i]\n",
    "\n",
    "pdf_text = [t for i, t in enumerate(pdf_text) if i not in rm_idxs]\n",
    "\n",
    "# Remove one \"Assign to Specific Hobby (see Appendix D)\", also doesn't have a 90 CIP\n",
    "deleted_idxs = [i for i, t in enumerate(pdf_text) if t == \"Assign to Specific Hobby (see Appendix D)\"]\n",
    "rm_idxs = []\n",
    "for i in deleted_idxs:\n",
    "    rm_idxs += [i-1, i]\n",
    "\n",
    "pdf_text = [t for i, t in enumerate(pdf_text) if i not in rm_idxs]\n",
    "\n",
    "# Remove any remaining empty strings\n",
    "pdf_text = [t for t in pdf_text if t != '']\n",
    "\n",
    "# For some reason only one line got parsed incorrectly\n",
    "idx = 1004\n",
    "pdf_text = pdf_text[:idx] + [' '.join(pdf_text[idx:idx+8])] + pdf_text[idx+8:]\n",
    "\n",
    "with open('extracted_text.txt', 'w') as f:\n",
    "    f.write('\\n'.join(pdf_text))\n",
    "\n",
    "pdf_df = pd.DataFrame(\n",
    "    data=[pdf_text[::3], pdf_text[1::3], pdf_text[2::3]],\n",
    "    index=['CIP85', 'CIP90', 'CIP90TITLE']\n",
    ").T.replace('', None).dropna(how='all')\n",
    "\n",
    "pdf_df.head()\n"
   ]
  },
  {
   "cell_type": "code",
   "execution_count": 22,
   "id": "609fd804-5896-4ed7-b0c4-16c46f31987f",
   "metadata": {},
   "outputs": [
    {
     "data": {
      "text/plain": [
       "array([7])"
      ]
     },
     "execution_count": 22,
     "metadata": {},
     "output_type": "execute_result"
    }
   ],
   "source": [
    "pdf_df['CIP90'].str.len().unique()"
   ]
  },
  {
   "cell_type": "code",
   "execution_count": 23,
   "id": "c44db042-d48d-4e5a-a2eb-b6f49bc9b496",
   "metadata": {},
   "outputs": [],
   "source": [
    "from pipeline.cip_crosswalk import CIPCodeCrosswalk"
   ]
  },
  {
   "cell_type": "code",
   "execution_count": 24,
   "id": "a0d5b019-09b4-4a34-b9bd-0fe266f6788e",
   "metadata": {},
   "outputs": [],
   "source": [
    "cw = CIPCodeCrosswalk()\n",
    "cw._load_1985_to_1990_crosswalk()"
   ]
  },
  {
   "cell_type": "code",
   "execution_count": 25,
   "id": "ad033943-cebc-4af8-99b4-c37004d09989",
   "metadata": {},
   "outputs": [],
   "source": [
    "original_crosswalk = cw.crosswalk[(1984, 1991)]['cip_map']\n",
    "# original_crosswalk"
   ]
  },
  {
   "cell_type": "code",
   "execution_count": 26,
   "id": "2c5d5e69-1fea-4592-82f4-b7ae90e00660",
   "metadata": {},
   "outputs": [],
   "source": [
    "pdf_crosswalk = dict(zip(pdf_df['CIP85'], pdf_df['CIP90']))\n",
    "pdf_crosswalk = {k: v for k, v in pdf_crosswalk.items() if k != v}\n",
    "# pdf_crosswalk"
   ]
  },
  {
   "cell_type": "code",
   "execution_count": 27,
   "id": "a5e2b87d-6d9c-432f-8d6d-319a48addad0",
   "metadata": {},
   "outputs": [
    {
     "data": {
      "text/plain": [
       "(1093, 472)"
      ]
     },
     "execution_count": 27,
     "metadata": {},
     "output_type": "execute_result"
    }
   ],
   "source": [
    "len(original_crosswalk), len(pdf_crosswalk)"
   ]
  },
  {
   "cell_type": "code",
   "execution_count": 28,
   "id": "16aa5df3-473a-4e69-8628-93333613db69",
   "metadata": {},
   "outputs": [
    {
     "data": {
      "text/plain": [
       "472"
      ]
     },
     "execution_count": 28,
     "metadata": {},
     "output_type": "execute_result"
    }
   ],
   "source": [
    "# Keys present in both dictionaries\n",
    "len(set(pdf_crosswalk.keys()) & set(original_crosswalk.keys()))"
   ]
  },
  {
   "cell_type": "code",
   "execution_count": 29,
   "id": "b7496fdc-8625-4b18-adc5-03f882867788",
   "metadata": {},
   "outputs": [
    {
     "data": {
      "text/plain": [
       "4"
      ]
     },
     "execution_count": 29,
     "metadata": {},
     "output_type": "execute_result"
    }
   ],
   "source": [
    "# Of the keys that are in both dicts, do they map to the same values?\n",
    "dup_keys = list(set(pdf_crosswalk.keys()) & set(original_crosswalk.keys()))\n",
    "sum([original_crosswalk[k] != pdf_crosswalk[k] for k in dup_keys])"
   ]
  },
  {
   "cell_type": "code",
   "execution_count": 53,
   "id": "cf5e3e45-6d7d-4504-b98b-24edccf2ff5c",
   "metadata": {},
   "outputs": [
    {
     "data": {
      "text/plain": [
       "[('17.0499', '51.0301', '51.1599'),\n",
       " ('26.0201', '26.0202', '26.0203'),\n",
       " ('13.0801', '13.0802', '42.1701'),\n",
       " ('18.0701', '51.0701', '51.0702')]"
      ]
     },
     "execution_count": 53,
     "metadata": {},
     "output_type": "execute_result"
    }
   ],
   "source": [
    "[(k, original_crosswalk[k], pdf_crosswalk[k]) for k in dup_keys if original_crosswalk[k] != pdf_crosswalk[k]]"
   ]
  },
  {
   "cell_type": "markdown",
   "id": "312ccc7b-e309-40ce-96de-9f1415ee4ace",
   "metadata": {},
   "source": [
    "17.0499 is in the pdf twice, one maps to 51.0301 (what the excel maps to) and the other maps to 51.1599... same with 13.0801\n",
    "\n",
    "In all cases, I want to use the first mapping not the second."
   ]
  },
  {
   "cell_type": "markdown",
   "id": "579bd6a5-f8bc-4aa7-a571-1b64c5476aec",
   "metadata": {},
   "source": [
    "# Missing 1990 codes\n",
    "\n",
    "Ok, now that we've update the code to use the CIP crosswalk from the pdf, let's revisit what's missing:\n"
   ]
  },
  {
   "cell_type": "code",
   "execution_count": 35,
   "id": "d5620e49-c332-43ce-b92a-23e48c83f66b",
   "metadata": {},
   "outputs": [
    {
     "data": {
      "text/html": [
       "<div>\n",
       "<style scoped>\n",
       "    .dataframe tbody tr th:only-of-type {\n",
       "        vertical-align: middle;\n",
       "    }\n",
       "\n",
       "    .dataframe tbody tr th {\n",
       "        vertical-align: top;\n",
       "    }\n",
       "\n",
       "    .dataframe thead th {\n",
       "        text-align: right;\n",
       "    }\n",
       "</style>\n",
       "<table border=\"1\" class=\"dataframe\">\n",
       "  <thead>\n",
       "    <tr style=\"text-align: right;\">\n",
       "      <th></th>\n",
       "      <th>year</th>\n",
       "      <th>uni_degrees_total</th>\n",
       "      <th>unknown_cip_total</th>\n",
       "      <th>fraction_unknown_cips</th>\n",
       "    </tr>\n",
       "  </thead>\n",
       "  <tbody>\n",
       "    <tr>\n",
       "      <th>0</th>\n",
       "      <td>1984</td>\n",
       "      <td>1991889</td>\n",
       "      <td>20380</td>\n",
       "      <td>0.010231</td>\n",
       "    </tr>\n",
       "    <tr>\n",
       "      <th>1</th>\n",
       "      <td>1985</td>\n",
       "      <td>2004285</td>\n",
       "      <td>21083</td>\n",
       "      <td>0.010519</td>\n",
       "    </tr>\n",
       "    <tr>\n",
       "      <th>2</th>\n",
       "      <td>1986</td>\n",
       "      <td>2008295</td>\n",
       "      <td>23703</td>\n",
       "      <td>0.011803</td>\n",
       "    </tr>\n",
       "    <tr>\n",
       "      <th>3</th>\n",
       "      <td>1987</td>\n",
       "      <td>2163263</td>\n",
       "      <td>3981</td>\n",
       "      <td>0.001840</td>\n",
       "    </tr>\n",
       "    <tr>\n",
       "      <th>4</th>\n",
       "      <td>1988</td>\n",
       "      <td>2324652</td>\n",
       "      <td>80657</td>\n",
       "      <td>0.034696</td>\n",
       "    </tr>\n",
       "    <tr>\n",
       "      <th>5</th>\n",
       "      <td>1989</td>\n",
       "      <td>2412546</td>\n",
       "      <td>138020</td>\n",
       "      <td>0.057209</td>\n",
       "    </tr>\n",
       "    <tr>\n",
       "      <th>6</th>\n",
       "      <td>1990</td>\n",
       "      <td>2320375</td>\n",
       "      <td>30948</td>\n",
       "      <td>0.013337</td>\n",
       "    </tr>\n",
       "    <tr>\n",
       "      <th>7</th>\n",
       "      <td>1991</td>\n",
       "      <td>2408979</td>\n",
       "      <td>69562</td>\n",
       "      <td>0.028876</td>\n",
       "    </tr>\n",
       "    <tr>\n",
       "      <th>8</th>\n",
       "      <td>1992</td>\n",
       "      <td>2550460</td>\n",
       "      <td>51136</td>\n",
       "      <td>0.020050</td>\n",
       "    </tr>\n",
       "    <tr>\n",
       "      <th>9</th>\n",
       "      <td>1993</td>\n",
       "      <td>2616641</td>\n",
       "      <td>30515</td>\n",
       "      <td>0.011662</td>\n",
       "    </tr>\n",
       "    <tr>\n",
       "      <th>10</th>\n",
       "      <td>1994</td>\n",
       "      <td>2682879</td>\n",
       "      <td>20746</td>\n",
       "      <td>0.007733</td>\n",
       "    </tr>\n",
       "  </tbody>\n",
       "</table>\n",
       "</div>"
      ],
      "text/plain": [
       "    year  uni_degrees_total  unknown_cip_total  fraction_unknown_cips\n",
       "0   1984            1991889              20380               0.010231\n",
       "1   1985            2004285              21083               0.010519\n",
       "2   1986            2008295              23703               0.011803\n",
       "3   1987            2163263               3981               0.001840\n",
       "4   1988            2324652              80657               0.034696\n",
       "5   1989            2412546             138020               0.057209\n",
       "6   1990            2320375              30948               0.013337\n",
       "7   1991            2408979              69562               0.028876\n",
       "8   1992            2550460              51136               0.020050\n",
       "9   1993            2616641              30515               0.011662\n",
       "10  1994            2682879              20746               0.007733"
      ]
     },
     "execution_count": 35,
     "metadata": {},
     "output_type": "execute_result"
    }
   ],
   "source": [
    "proportion_missing = pd.merge(\n",
    "    df_w_cip[['year', 'uni_degrees_total']].drop_duplicates(),\n",
    "    df_w_cip[df_w_cip['cip_title'] == \"Unknown\"][['year', FieldTaxonomy.cip, \"field_degrees_total\"]].drop_duplicates().groupby('year')[\"field_degrees_total\"].sum(),\n",
    "    right_index=True,\n",
    "    left_on='year'\n",
    ").rename(columns={'field_degrees_total': 'unknown_cip_total'})\n",
    "\n",
    "proportion_missing['fraction_unknown_cips'] = proportion_missing['unknown_cip_total'] / proportion_missing['uni_degrees_total']\n",
    "\n",
    "proportion_missing"
   ]
  },
  {
   "cell_type": "code",
   "execution_count": 36,
   "id": "e962aa38-7eb2-4cba-9be8-37b4f3399ad0",
   "metadata": {},
   "outputs": [
    {
     "name": "stderr",
     "output_type": "stream",
     "text": [
      "/var/folders/87/tp5jbk1x7zx0c0tx8zqvrxjr0000gp/T/ipykernel_61097/1231911568.py:6: FutureWarning: The default of observed=False is deprecated and will be changed to True in a future version of pandas. Pass observed=False to retain current behavior or observed=True to adopt the future default and silence this warning.\n",
      "  .groupby([FieldTaxonomy.cip])\n"
     ]
    },
    {
     "data": {
      "text/plain": [
       "cip2020\n",
       "95.0000    176038\n",
       "20.0102     13134\n",
       "20.0101      1878\n",
       "61.2601      1428\n",
       "20.0109      1230\n",
       "            ...  \n",
       "16.0402         0\n",
       "16.0403         0\n",
       "16.0406         0\n",
       "16.0407         0\n",
       "95.9500         0\n",
       "Name: field_degrees_total, Length: 2518, dtype: int64"
      ]
     },
     "execution_count": 36,
     "metadata": {},
     "output_type": "execute_result"
    }
   ],
   "source": [
    "# Now 1990 is the worst offender, what's up?\n",
    "(\n",
    "    df_w_cip[\n",
    "        (df_w_cip['cip_title'] == \"Unknown\") & (df_w_cip['year'].isin([1990, 1991]))\n",
    "    ]\n",
    "    .groupby([FieldTaxonomy.cip])\n",
    "    ['field_degrees_total']\n",
    "    .sum()\n",
    ").sort_values(ascending=False)"
   ]
  },
  {
   "cell_type": "markdown",
   "id": "98c583ec-07f7-4d96-8f39-14c201b867d5",
   "metadata": {},
   "source": [
    "Hmm, 06.0401 is one that I thought I had already fixed. Maybe it's only in the 1985 -> 1990 crosswalk and not in the 1990 -> 2k crosswalk?"
   ]
  },
  {
   "cell_type": "code",
   "execution_count": 37,
   "id": "462b5213-92e4-4b58-8f6f-b00a532720ac",
   "metadata": {},
   "outputs": [
    {
     "data": {
      "text/plain": [
       "dict_keys([(2010, 2019), (2000, 2009), (1990, 1999), (1984, 1991)])"
      ]
     },
     "execution_count": 37,
     "metadata": {},
     "output_type": "execute_result"
    }
   ],
   "source": [
    "cw.crosswalk.keys()"
   ]
  },
  {
   "cell_type": "code",
   "execution_count": 38,
   "id": "d2602205-e19a-40d9-9011-0f9c2b6cb731",
   "metadata": {},
   "outputs": [
    {
     "data": {
      "text/plain": [
       "False"
      ]
     },
     "execution_count": 38,
     "metadata": {},
     "output_type": "execute_result"
    }
   ],
   "source": [
    "'06.0401' in cw.crosswalk[(1990, 1999)]['cip_map']"
   ]
  },
  {
   "cell_type": "code",
   "execution_count": 39,
   "id": "76d9db56-5b79-46a5-a9e4-9fb3ba228e8d",
   "metadata": {},
   "outputs": [
    {
     "data": {
      "text/plain": [
       "True"
      ]
     },
     "execution_count": 39,
     "metadata": {},
     "output_type": "execute_result"
    }
   ],
   "source": [
    "'06.0401' in cw.crosswalk[(1984, 1991)]['cip_map']"
   ]
  },
  {
   "cell_type": "code",
   "execution_count": 40,
   "id": "b7b52e81-950f-41c6-9170-cee4300bc6e8",
   "metadata": {},
   "outputs": [
    {
     "data": {
      "text/plain": [
       "'52.0201'"
      ]
     },
     "execution_count": 40,
     "metadata": {},
     "output_type": "execute_result"
    }
   ],
   "source": [
    "cw.crosswalk[(1984, 1991)]['cip_map']['06.0401']"
   ]
  },
  {
   "cell_type": "code",
   "execution_count": 41,
   "id": "afda1384-f1c0-4dcf-a4dd-2afc896be1b5",
   "metadata": {},
   "outputs": [
    {
     "name": "stdout",
     "output_type": "stream",
     "text": [
      "95.0000 in 90 -> 2k crosswalk: False\n",
      "95.0000 in 85 -> 90 crosswalk: False\n",
      "20.0102 in 90 -> 2k crosswalk: False\n",
      "20.0102 in 85 -> 90 crosswalk: True\n",
      "20.0101 in 90 -> 2k crosswalk: False\n",
      "20.0101 in 85 -> 90 crosswalk: True\n",
      "61.2601 in 90 -> 2k crosswalk: False\n",
      "61.2601 in 85 -> 90 crosswalk: False\n",
      "20.0109 in 90 -> 2k crosswalk: False\n",
      "20.0109 in 85 -> 90 crosswalk: True\n",
      "20.0107 in 90 -> 2k crosswalk: False\n",
      "20.0107 in 85 -> 90 crosswalk: True\n",
      "61.0213 in 90 -> 2k crosswalk: False\n",
      "61.0213 in 85 -> 90 crosswalk: False\n",
      "60.0299 in 90 -> 2k crosswalk: False\n",
      "60.0299 in 85 -> 90 crosswalk: False\n",
      "60.0199 in 90 -> 2k crosswalk: False\n",
      "60.0199 in 85 -> 90 crosswalk: False\n",
      "60.0105 in 90 -> 2k crosswalk: False\n",
      "60.0105 in 85 -> 90 crosswalk: False\n"
     ]
    },
    {
     "name": "stderr",
     "output_type": "stream",
     "text": [
      "/var/folders/87/tp5jbk1x7zx0c0tx8zqvrxjr0000gp/T/ipykernel_61097/159061316.py:5: FutureWarning: The default of observed=False is deprecated and will be changed to True in a future version of pandas. Pass observed=False to retain current behavior or observed=True to adopt the future default and silence this warning.\n",
      "  .groupby([FieldTaxonomy.cip])\n"
     ]
    }
   ],
   "source": [
    "tmp = (\n",
    "    df_w_cip[\n",
    "        (df_w_cip['cip_title'] == \"Unknown\") & (df_w_cip['year'].isin([1990, 1991]))\n",
    "    ]\n",
    "    .groupby([FieldTaxonomy.cip])\n",
    "    ['field_degrees_total']\n",
    "    .sum()\n",
    ").sort_values(ascending=False).head(10)\n",
    "\n",
    "for missing_cip in tmp.index:\n",
    "\n",
    "    print(f\"{missing_cip} in 90 -> 2k crosswalk: {missing_cip in cw.crosswalk[(1990, 1999)]['cip_map']}\")\n",
    "    print(f\"{missing_cip} in 85 -> 90 crosswalk: {missing_cip in cw.crosswalk[(1984, 1991)]['cip_map']}\")"
   ]
  },
  {
   "cell_type": "markdown",
   "id": "1c4b0ac0",
   "metadata": {},
   "source": [
    "Ok, so these are all in the 85 -> 90 crosswalk but not the 90 -> 99 crosswalk. So I need to use the 85 -> 90 crosswalk for 1990 and 1991 as well. (ugh)"
   ]
  },
  {
   "cell_type": "markdown",
   "id": "cdf8e191",
   "metadata": {},
   "source": [
    "Ok, now that I've used the 85 -> 90 crosswalk for my 1990 and 1991 data, 1988 and 1989 are still pretty bad offenders (5% of majors aren't in NCSES classification)."
   ]
  },
  {
   "cell_type": "code",
   "execution_count": 42,
   "id": "c8161da0-d21d-49d1-99de-1aec90965d1c",
   "metadata": {},
   "outputs": [
    {
     "name": "stderr",
     "output_type": "stream",
     "text": [
      "/var/folders/87/tp5jbk1x7zx0c0tx8zqvrxjr0000gp/T/ipykernel_61097/1938997181.py:5: FutureWarning: The default of observed=False is deprecated and will be changed to True in a future version of pandas. Pass observed=False to retain current behavior or observed=True to adopt the future default and silence this warning.\n",
      "  .groupby([FieldTaxonomy.cip])\n"
     ]
    },
    {
     "data": {
      "text/plain": [
       "cip2020\n",
       "95.0000    415660\n",
       "20.0102      7946\n",
       "20.0101      5600\n",
       "20.0107      1994\n",
       "61.2601      1256\n",
       "60.0199       552\n",
       "60.0105       530\n",
       "61.0213       484\n",
       "60.0299       466\n",
       "28.9999       332\n",
       "Name: field_degrees_total, dtype: int64"
      ]
     },
     "execution_count": 42,
     "metadata": {},
     "output_type": "execute_result"
    }
   ],
   "source": [
    "(\n",
    "    df_w_cip[\n",
    "        (df_w_cip['cip_title'] == \"Unknown\") & (df_w_cip['year'].isin([1988, 1989]))\n",
    "    ]\n",
    "    .groupby([FieldTaxonomy.cip])\n",
    "    ['field_degrees_total']\n",
    "    .sum()\n",
    ").sort_values(ascending=False).head(10)\n"
   ]
  },
  {
   "cell_type": "markdown",
   "id": "8fdb921a",
   "metadata": {},
   "source": [
    "AhA! There's a bunch of CIP 95.000. I think these are Unknown or Total?\n",
    "\n",
    "Oh, maybe they're not Bachelor's. ChatGPT said this but can't find me a source: \"The Classification of Instructional Programs (CIP) code 95.0000 corresponds to \"High School/Secondary Diplomas and Certificates, Other.\" This category encompasses any high school or secondary-level diploma or certificate programs that don't fall under specific categories. The CIP is a taxonomic scheme developed by the U.S. Department of Education's National Center for Education Statistics (NCES) to support the accurate tracking and reporting of fields of study and program completions.\""
   ]
  },
  {
   "cell_type": "code",
   "execution_count": 43,
   "id": "1cbf24c5-5d58-42d8-8385-4b14783d91f2",
   "metadata": {},
   "outputs": [
    {
     "data": {
      "text/html": [
       "<div>\n",
       "<style scoped>\n",
       "    .dataframe tbody tr th:only-of-type {\n",
       "        vertical-align: middle;\n",
       "    }\n",
       "\n",
       "    .dataframe tbody tr th {\n",
       "        vertical-align: top;\n",
       "    }\n",
       "\n",
       "    .dataframe thead th {\n",
       "        text-align: right;\n",
       "    }\n",
       "</style>\n",
       "<table border=\"1\" class=\"dataframe\">\n",
       "  <thead>\n",
       "    <tr style=\"text-align: right;\">\n",
       "      <th></th>\n",
       "      <th>year</th>\n",
       "      <th>uni_degrees_total</th>\n",
       "      <th>unknown_cip_total</th>\n",
       "      <th>fraction_unknown_cips</th>\n",
       "    </tr>\n",
       "  </thead>\n",
       "  <tbody>\n",
       "    <tr>\n",
       "      <th>0</th>\n",
       "      <td>1984</td>\n",
       "      <td>986345</td>\n",
       "      <td>4575</td>\n",
       "      <td>0.004638</td>\n",
       "    </tr>\n",
       "    <tr>\n",
       "      <th>1</th>\n",
       "      <td>1985</td>\n",
       "      <td>990877</td>\n",
       "      <td>4448</td>\n",
       "      <td>0.004489</td>\n",
       "    </tr>\n",
       "    <tr>\n",
       "      <th>2</th>\n",
       "      <td>1986</td>\n",
       "      <td>1000204</td>\n",
       "      <td>4485</td>\n",
       "      <td>0.004484</td>\n",
       "    </tr>\n",
       "    <tr>\n",
       "      <th>3</th>\n",
       "      <td>1987</td>\n",
       "      <td>1005021</td>\n",
       "      <td>806</td>\n",
       "      <td>0.000802</td>\n",
       "    </tr>\n",
       "    <tr>\n",
       "      <th>4</th>\n",
       "      <td>1988</td>\n",
       "      <td>1009223</td>\n",
       "      <td>4945</td>\n",
       "      <td>0.004900</td>\n",
       "    </tr>\n",
       "    <tr>\n",
       "      <th>5</th>\n",
       "      <td>1989</td>\n",
       "      <td>1034535</td>\n",
       "      <td>6156</td>\n",
       "      <td>0.005950</td>\n",
       "    </tr>\n",
       "    <tr>\n",
       "      <th>6</th>\n",
       "      <td>1990</td>\n",
       "      <td>1068133</td>\n",
       "      <td>6180</td>\n",
       "      <td>0.005786</td>\n",
       "    </tr>\n",
       "    <tr>\n",
       "      <th>7</th>\n",
       "      <td>1991</td>\n",
       "      <td>1112534</td>\n",
       "      <td>17684</td>\n",
       "      <td>0.015895</td>\n",
       "    </tr>\n",
       "    <tr>\n",
       "      <th>8</th>\n",
       "      <td>1992</td>\n",
       "      <td>1171556</td>\n",
       "      <td>12775</td>\n",
       "      <td>0.010904</td>\n",
       "    </tr>\n",
       "    <tr>\n",
       "      <th>9</th>\n",
       "      <td>1993</td>\n",
       "      <td>1199042</td>\n",
       "      <td>10562</td>\n",
       "      <td>0.008809</td>\n",
       "    </tr>\n",
       "    <tr>\n",
       "      <th>10</th>\n",
       "      <td>1994</td>\n",
       "      <td>1198663</td>\n",
       "      <td>7524</td>\n",
       "      <td>0.006277</td>\n",
       "    </tr>\n",
       "  </tbody>\n",
       "</table>\n",
       "</div>"
      ],
      "text/plain": [
       "    year  uni_degrees_total  unknown_cip_total  fraction_unknown_cips\n",
       "0   1984             986345               4575               0.004638\n",
       "1   1985             990877               4448               0.004489\n",
       "2   1986            1000204               4485               0.004484\n",
       "3   1987            1005021                806               0.000802\n",
       "4   1988            1009223               4945               0.004900\n",
       "5   1989            1034535               6156               0.005950\n",
       "6   1990            1068133               6180               0.005786\n",
       "7   1991            1112534              17684               0.015895\n",
       "8   1992            1171556              12775               0.010904\n",
       "9   1993            1199042              10562               0.008809\n",
       "10  1994            1198663               7524               0.006277"
      ]
     },
     "execution_count": 43,
     "metadata": {},
     "output_type": "execute_result"
    }
   ],
   "source": [
    "qf = QueryFilters(start_year=1984, end_year=1994, award_levels=[AwardLevel.bachelors])\n",
    "df = engine.field_totals_by_grouping(grouping='gender', query_filters=qf, taxonomy=FieldTaxonomy.cip, by_year=True).reset_index()\n",
    "\n",
    "df_w_cip = pd.merge(\n",
    "    df, cipdf,\n",
    "    left_on=FieldTaxonomy.cip, left_index=False,\n",
    "    right_index=True, \n",
    "    validate='many_to_one'\n",
    ")\n",
    "\n",
    "\n",
    "proportion_missing = pd.merge(\n",
    "    df_w_cip[['year', 'uni_degrees_total']].drop_duplicates(),\n",
    "    df_w_cip[df_w_cip['cip_title'] == \"Unknown\"][['year', FieldTaxonomy.cip, \"field_degrees_total\"]].drop_duplicates().groupby('year')[\"field_degrees_total\"].sum(),\n",
    "    right_index=True,\n",
    "    left_on='year'\n",
    ").rename(columns={'field_degrees_total': 'unknown_cip_total'})\n",
    "\n",
    "proportion_missing['fraction_unknown_cips'] = proportion_missing['unknown_cip_total'] / proportion_missing['uni_degrees_total']\n",
    "\n",
    "proportion_missing"
   ]
  },
  {
   "cell_type": "markdown",
   "id": "bbb1d031-6575-4231-a83b-9e8c1f5b3400",
   "metadata": {},
   "source": [
    "Ok that is good enough for me! Below 1% missing for all years except 1991 (1.6%) and 1992 (1.1%)"
   ]
  },
  {
   "cell_type": "code",
   "execution_count": null,
   "id": "517d03c7-4031-4660-adf8-cf2bbeeda376",
   "metadata": {},
   "outputs": [],
   "source": []
  },
  {
   "cell_type": "markdown",
   "id": "b5f032af-9e91-474f-b40e-946f888d8745",
   "metadata": {},
   "source": [
    "# Check for malformatted cip codes\n",
    "\n",
    "Chris found some CIP codes that don't seem right:\n",
    "\n",
    "```\n",
    "Something not quite right is happening with the mapping to cip2020 - I end up with string title values in the cip2020 column when I expect 6-digit CIPs.\n",
    "\n",
    "One way to try to figure out what's going wrong is to see where any values in the mapping have more than 7 characters.\n",
    "```"
   ]
  },
  {
   "cell_type": "code",
   "execution_count": 44,
   "id": "3e4dfe00-c5b4-4a40-aa39-e37716610228",
   "metadata": {},
   "outputs": [
    {
     "data": {
      "text/plain": [
       "{7}"
      ]
     },
     "execution_count": 44,
     "metadata": {},
     "output_type": "execute_result"
    }
   ],
   "source": [
    "set([len(s) for s in cipdf.index])"
   ]
  },
  {
   "cell_type": "code",
   "execution_count": 45,
   "id": "be2eca7f-2b81-40fa-85a3-2000a8d020a1",
   "metadata": {},
   "outputs": [
    {
     "data": {
      "text/plain": [
       "True"
      ]
     },
     "execution_count": 45,
     "metadata": {},
     "output_type": "execute_result"
    }
   ],
   "source": [
    "set([len(s) for s in cw.crosswalk[(1984, 1991)]['cip_map'].keys()]) == {7}"
   ]
  },
  {
   "cell_type": "code",
   "execution_count": 46,
   "id": "f2aa9be7-53cb-412e-9b70-55e9ea00e03e",
   "metadata": {},
   "outputs": [
    {
     "data": {
      "text/html": [
       "<div>\n",
       "<style scoped>\n",
       "    .dataframe tbody tr th:only-of-type {\n",
       "        vertical-align: middle;\n",
       "    }\n",
       "\n",
       "    .dataframe tbody tr th {\n",
       "        vertical-align: top;\n",
       "    }\n",
       "\n",
       "    .dataframe thead th {\n",
       "        text-align: right;\n",
       "    }\n",
       "</style>\n",
       "<table border=\"1\" class=\"dataframe\">\n",
       "  <thead>\n",
       "    <tr style=\"text-align: right;\">\n",
       "      <th></th>\n",
       "      <th>cip2020</th>\n",
       "      <th>cip2020_title</th>\n",
       "    </tr>\n",
       "  </thead>\n",
       "  <tbody>\n",
       "    <tr>\n",
       "      <th>0</th>\n",
       "      <td>11.0202</td>\n",
       "      <td>Computer Programming, Specific Applications</td>\n",
       "    </tr>\n",
       "  </tbody>\n",
       "</table>\n",
       "</div>"
      ],
      "text/plain": [
       "   cip2020                                cip2020_title\n",
       "0  11.0202  Computer Programming, Specific Applications"
      ]
     },
     "execution_count": 46,
     "metadata": {},
     "output_type": "execute_result"
    }
   ],
   "source": [
    "cw.convert_to_cip2020(year=1991, codes=\"52.1202\")"
   ]
  },
  {
   "cell_type": "code",
   "execution_count": 47,
   "id": "c66dd03d-0b06-4c38-8a89-af73ff14ec32",
   "metadata": {},
   "outputs": [
    {
     "data": {
      "text/plain": [
       "'52.0302'"
      ]
     },
     "execution_count": 47,
     "metadata": {},
     "output_type": "execute_result"
    }
   ],
   "source": [
    "cw.crosswalk[(1984, 1991)]['cip_map'][\"07.0103\"]"
   ]
  },
  {
   "cell_type": "code",
   "execution_count": 48,
   "id": "8f3bba14-6b21-4499-8040-9cdaf0609bbc",
   "metadata": {},
   "outputs": [
    {
     "data": {
      "text/html": [
       "<div>\n",
       "<style scoped>\n",
       "    .dataframe tbody tr th:only-of-type {\n",
       "        vertical-align: middle;\n",
       "    }\n",
       "\n",
       "    .dataframe tbody tr th {\n",
       "        vertical-align: top;\n",
       "    }\n",
       "\n",
       "    .dataframe thead th {\n",
       "        text-align: right;\n",
       "    }\n",
       "</style>\n",
       "<table border=\"1\" class=\"dataframe\">\n",
       "  <thead>\n",
       "    <tr style=\"text-align: right;\">\n",
       "      <th></th>\n",
       "      <th>cip2020</th>\n",
       "      <th>cip2020_title</th>\n",
       "    </tr>\n",
       "  </thead>\n",
       "  <tbody>\n",
       "    <tr>\n",
       "      <th>0</th>\n",
       "      <td>52.0302</td>\n",
       "      <td>Accounting Technology/Technician and Bookkeeping</td>\n",
       "    </tr>\n",
       "  </tbody>\n",
       "</table>\n",
       "</div>"
      ],
      "text/plain": [
       "   cip2020                                     cip2020_title\n",
       "0  52.0302  Accounting Technology/Technician and Bookkeeping"
      ]
     },
     "execution_count": 48,
     "metadata": {},
     "output_type": "execute_result"
    }
   ],
   "source": [
    "cw.convert_to_cip2020(year=1985, codes=\"07.0103\")"
   ]
  },
  {
   "cell_type": "code",
   "execution_count": null,
   "id": "a75cc1d6-deaf-42f6-b810-5e61d187c1e3",
   "metadata": {},
   "outputs": [],
   "source": []
  },
  {
   "cell_type": "markdown",
   "id": "f5b33219-df4e-4624-b2f9-f4ff31cab8cb",
   "metadata": {},
   "source": [
    "# Check all data"
   ]
  },
  {
   "cell_type": "code",
   "execution_count": 49,
   "id": "b7fc8371-558e-469d-b19b-b3c693635bdf",
   "metadata": {},
   "outputs": [
    {
     "name": "stderr",
     "output_type": "stream",
     "text": [
      "/Users/claireduvallet/github/sfa/scipeds/scipeds/data/queries.py:96: UserWarning: IPEDS award level coding and race and ethnicity coding changed between 2010 and 2011 datasets. For more details, see https://nces.ed.gov/ipeds/report-your-data/race-ethnicity-reporting-changes\n",
      "  warnings.warn(\n"
     ]
    },
    {
     "data": {
      "text/html": [
       "<div>\n",
       "<style scoped>\n",
       "    .dataframe tbody tr th:only-of-type {\n",
       "        vertical-align: middle;\n",
       "    }\n",
       "\n",
       "    .dataframe tbody tr th {\n",
       "        vertical-align: top;\n",
       "    }\n",
       "\n",
       "    .dataframe thead th {\n",
       "        text-align: right;\n",
       "    }\n",
       "</style>\n",
       "<table border=\"1\" class=\"dataframe\">\n",
       "  <thead>\n",
       "    <tr style=\"text-align: right;\">\n",
       "      <th></th>\n",
       "      <th></th>\n",
       "      <th></th>\n",
       "      <th>field_degrees_within_gender</th>\n",
       "      <th>field_degrees_total</th>\n",
       "      <th>uni_degrees_within_gender</th>\n",
       "      <th>uni_degrees_total</th>\n",
       "    </tr>\n",
       "    <tr>\n",
       "      <th>ncses_field_group</th>\n",
       "      <th>gender</th>\n",
       "      <th>year</th>\n",
       "      <th></th>\n",
       "      <th></th>\n",
       "      <th></th>\n",
       "      <th></th>\n",
       "    </tr>\n",
       "  </thead>\n",
       "  <tbody>\n",
       "    <tr>\n",
       "      <th rowspan=\"5\" valign=\"top\">Architecture and Environmental Design</th>\n",
       "      <th rowspan=\"5\" valign=\"top\">men</th>\n",
       "      <th>1984</th>\n",
       "      <td>5908</td>\n",
       "      <td>9204</td>\n",
       "      <td>486750</td>\n",
       "      <td>986345</td>\n",
       "    </tr>\n",
       "    <tr>\n",
       "      <th>1985</th>\n",
       "      <td>6032</td>\n",
       "      <td>9342</td>\n",
       "      <td>486660</td>\n",
       "      <td>990877</td>\n",
       "    </tr>\n",
       "    <tr>\n",
       "      <th>1986</th>\n",
       "      <td>5842</td>\n",
       "      <td>9145</td>\n",
       "      <td>490143</td>\n",
       "      <td>1000204</td>\n",
       "    </tr>\n",
       "    <tr>\n",
       "      <th>1987</th>\n",
       "      <td>5633</td>\n",
       "      <td>8982</td>\n",
       "      <td>485823</td>\n",
       "      <td>1005021</td>\n",
       "    </tr>\n",
       "    <tr>\n",
       "      <th>1988</th>\n",
       "      <td>5302</td>\n",
       "      <td>8654</td>\n",
       "      <td>483580</td>\n",
       "      <td>1009223</td>\n",
       "    </tr>\n",
       "  </tbody>\n",
       "</table>\n",
       "</div>"
      ],
      "text/plain": [
       "                                                   field_degrees_within_gender  \\\n",
       "ncses_field_group                     gender year                                \n",
       "Architecture and Environmental Design men    1984                         5908   \n",
       "                                             1985                         6032   \n",
       "                                             1986                         5842   \n",
       "                                             1987                         5633   \n",
       "                                             1988                         5302   \n",
       "\n",
       "                                                   field_degrees_total  \\\n",
       "ncses_field_group                     gender year                        \n",
       "Architecture and Environmental Design men    1984                 9204   \n",
       "                                             1985                 9342   \n",
       "                                             1986                 9145   \n",
       "                                             1987                 8982   \n",
       "                                             1988                 8654   \n",
       "\n",
       "                                                   uni_degrees_within_gender  \\\n",
       "ncses_field_group                     gender year                              \n",
       "Architecture and Environmental Design men    1984                     486750   \n",
       "                                             1985                     486660   \n",
       "                                             1986                     490143   \n",
       "                                             1987                     485823   \n",
       "                                             1988                     483580   \n",
       "\n",
       "                                                   uni_degrees_total  \n",
       "ncses_field_group                     gender year                     \n",
       "Architecture and Environmental Design men    1984             986345  \n",
       "                                             1985             990877  \n",
       "                                             1986            1000204  \n",
       "                                             1987            1005021  \n",
       "                                             1988            1009223  "
      ]
     },
     "execution_count": 49,
     "metadata": {},
     "output_type": "execute_result"
    }
   ],
   "source": [
    "qf = QueryFilters(start_year=1984, end_year=2023, award_levels=AwardLevel.bachelors)\n",
    "\n",
    "df = engine.field_totals_by_grouping(\n",
    "    grouping='gender', taxonomy=FieldTaxonomy.ncses_field_group,\n",
    "    query_filters=qf,\n",
    "    by_year=True\n",
    ")\n",
    "df.head()"
   ]
  },
  {
   "cell_type": "code",
   "execution_count": 50,
   "id": "db3e7f0c-54a4-4e34-80d8-6c0f8bdeb1a3",
   "metadata": {},
   "outputs": [],
   "source": [
    "from scipeds.data.enums import NCSESFieldGroup\n",
    "\n",
    "tmp = df.loc[NCSESFieldGroup.engineering].reset_index()\n"
   ]
  },
  {
   "cell_type": "code",
   "execution_count": 51,
   "id": "24cceb01-a291-499c-a9b1-f5f85c4543e0",
   "metadata": {},
   "outputs": [
    {
     "data": {
      "text/plain": [
       "<Axes: xlabel='year'>"
      ]
     },
     "execution_count": 51,
     "metadata": {},
     "output_type": "execute_result"
    },
    {
     "data": {
      "image/png": "[encoded data removed]",
      "text/plain": [
       "<Figure size 640x480 with 1 Axes>"
      ]
     },
     "metadata": {},
     "output_type": "display_data"
    }
   ],
   "source": [
    "tmp.pivot(index='year', columns='gender', values='field_degrees_within_gender').plot()"
   ]
  },
  {
   "cell_type": "code",
   "execution_count": 52,
   "id": "45be220f-01a9-4db1-af1e-7ebee71ac3e1",
   "metadata": {},
   "outputs": [
    {
     "data": {
      "text/plain": [
       "<Axes: xlabel='year'>"
      ]
     },
     "execution_count": 52,
     "metadata": {},
     "output_type": "execute_result"
    },
    {
     "data": {
      "image/png": "[encoded data removed]",
      "text/plain": [
       "<Figure size 640x480 with 1 Axes>"
      ]
     },
     "metadata": {},
     "output_type": "display_data"
    }
   ],
   "source": [
    "tmp.pivot(index='year', columns='gender', values='uni_degrees_within_gender').plot()"
   ]
  },
  {
   "cell_type": "markdown",
   "id": "20e0abeb-f6f5-46b6-b52a-d8b34ea88bb9",
   "metadata": {},
   "source": [
    "Looks continuous enough to me. Let's work on downloading _all_ the data and reprocessing from scratch there."
   ]
  },
  {
   "cell_type": "code",
   "execution_count": null,
   "id": "eb4522c8-a8d2-4151-82ca-36493c9138e6",
   "metadata": {},
   "outputs": [],
   "source": []
  }
 ],
 "metadata": {
  "kernelspec": {
   "display_name": "Python 3 (ipykernel)",
   "language": "python",
   "name": "python3"
  },
  "language_info": {
   "codemirror_mode": {
    "name": "ipython",
    "version": 3
   },
   "file_extension": ".py",
   "mimetype": "text/x-python",
   "name": "python",
   "nbconvert_exporter": "python",
   "pygments_lexer": "ipython3",
   "version": "3.10.11"
  }
 },
 "nbformat": 4,
 "nbformat_minor": 5
}
