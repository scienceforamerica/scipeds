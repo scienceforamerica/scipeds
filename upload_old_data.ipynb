{
 "cells": [
  {
   "cell_type": "code",
   "execution_count": 1,
   "id": "7f81e900-4352-49ca-b780-300e2e676568",
   "metadata": {},
   "outputs": [],
   "source": [
    "from google.cloud import storage\n",
    "from pathlib import Path"
   ]
  },
  {
   "cell_type": "code",
   "execution_count": 2,
   "id": "4a3a5591-d9ed-478c-b19e-72b28fb15ae5",
   "metadata": {},
   "outputs": [
    {
     "name": "stdout",
     "output_type": "stream",
     "text": [
      "1984\n",
      "1985\n",
      "1986\n",
      "1987\n",
      "1988\n",
      "1989\n",
      "1990\n",
      "1991\n",
      "1992\n",
      "1993\n",
      "1994\n"
     ]
    }
   ],
   "source": [
    "    print(y)"
   ]
  },
  {
   "cell_type": "code",
   "execution_count": 16,
   "id": "20b425ea-2552-43cc-946d-d298ee4b8c87",
   "metadata": {},
   "outputs": [
    {
     "name": "stdout",
     "output_type": "stream",
     "text": [
      "1984\n",
      "Uploaded data/raw/ipeds_completions_a/1984/c1984_cip.html to gs://scipeds-data/raw/ipeds_completions_a/1984/c1984_cip.html\n",
      "Uploaded data/raw/ipeds_completions_a/1984/C1984_CIP.zip to gs://scipeds-data/raw/ipeds_completions_a/1984/C1984_CIP.zip\n",
      "Uploaded data/raw/ipeds_completions_a/1984/c1984_cip.csv to gs://scipeds-data/raw/ipeds_completions_a/1984/c1984_cip.csv\n",
      "Uploaded data/raw/ipeds_completions_a/1984/C1984_CIP_Dict.zip to gs://scipeds-data/raw/ipeds_completions_a/1984/C1984_CIP_Dict.zip\n",
      "-------\n",
      "1985\n",
      "Uploaded data/raw/ipeds_completions_a/1985/c1985_cip.html to gs://scipeds-data/raw/ipeds_completions_a/1985/c1985_cip.html\n",
      "Uploaded data/raw/ipeds_completions_a/1985/c1985_cip.csv to gs://scipeds-data/raw/ipeds_completions_a/1985/c1985_cip.csv\n",
      "Uploaded data/raw/ipeds_completions_a/1985/C1985_CIP.zip to gs://scipeds-data/raw/ipeds_completions_a/1985/C1985_CIP.zip\n",
      "Uploaded data/raw/ipeds_completions_a/1985/C1985_CIP_Dict.zip to gs://scipeds-data/raw/ipeds_completions_a/1985/C1985_CIP_Dict.zip\n",
      "-------\n",
      "1986\n",
      "Uploaded data/raw/ipeds_completions_a/1986/C1986_CIP_Dict.zip to gs://scipeds-data/raw/ipeds_completions_a/1986/C1986_CIP_Dict.zip\n",
      "Uploaded data/raw/ipeds_completions_a/1986/c1986_cip.csv to gs://scipeds-data/raw/ipeds_completions_a/1986/c1986_cip.csv\n",
      "Uploaded data/raw/ipeds_completions_a/1986/c1986_cip.html to gs://scipeds-data/raw/ipeds_completions_a/1986/c1986_cip.html\n",
      "Uploaded data/raw/ipeds_completions_a/1986/C1986_CIP.zip to gs://scipeds-data/raw/ipeds_completions_a/1986/C1986_CIP.zip\n",
      "-------\n",
      "1987\n",
      "Uploaded data/raw/ipeds_completions_a/1987/C1987_CIP_Dict.zip to gs://scipeds-data/raw/ipeds_completions_a/1987/C1987_CIP_Dict.zip\n",
      "Uploaded data/raw/ipeds_completions_a/1987/C1987_CIP.zip to gs://scipeds-data/raw/ipeds_completions_a/1987/C1987_CIP.zip\n",
      "Uploaded data/raw/ipeds_completions_a/1987/c1987_cip.html to gs://scipeds-data/raw/ipeds_completions_a/1987/c1987_cip.html\n",
      "Uploaded data/raw/ipeds_completions_a/1987/c1987_cip.csv to gs://scipeds-data/raw/ipeds_completions_a/1987/c1987_cip.csv\n",
      "-------\n",
      "1988\n",
      "Uploaded data/raw/ipeds_completions_a/1988/c1988_cip.html to gs://scipeds-data/raw/ipeds_completions_a/1988/c1988_cip.html\n",
      "Uploaded data/raw/ipeds_completions_a/1988/c1988_cip.csv to gs://scipeds-data/raw/ipeds_completions_a/1988/c1988_cip.csv\n",
      "Uploaded data/raw/ipeds_completions_a/1988/C1988_CIP.zip to gs://scipeds-data/raw/ipeds_completions_a/1988/C1988_CIP.zip\n",
      "Uploaded data/raw/ipeds_completions_a/1988/C1988_CIP_Dict.zip to gs://scipeds-data/raw/ipeds_completions_a/1988/C1988_CIP_Dict.zip\n",
      "-------\n",
      "1989\n",
      "Uploaded data/raw/ipeds_completions_a/1989/c1989_cip.html to gs://scipeds-data/raw/ipeds_completions_a/1989/c1989_cip.html\n",
      "Uploaded data/raw/ipeds_completions_a/1989/C1989_CIP.zip to gs://scipeds-data/raw/ipeds_completions_a/1989/C1989_CIP.zip\n",
      "Uploaded data/raw/ipeds_completions_a/1989/c1989_cip.csv to gs://scipeds-data/raw/ipeds_completions_a/1989/c1989_cip.csv\n",
      "Uploaded data/raw/ipeds_completions_a/1989/C1989_CIP_Dict.zip to gs://scipeds-data/raw/ipeds_completions_a/1989/C1989_CIP_Dict.zip\n",
      "-------\n",
      "1990\n",
      "Uploaded data/raw/ipeds_completions_a/1990/c8990cip.html to gs://scipeds-data/raw/ipeds_completions_a/1990/c8990cip.html\n",
      "Uploaded data/raw/ipeds_completions_a/1990/C8990CIP_Dict.zip to gs://scipeds-data/raw/ipeds_completions_a/1990/C8990CIP_Dict.zip\n",
      "Uploaded data/raw/ipeds_completions_a/1990/c8990cip.csv to gs://scipeds-data/raw/ipeds_completions_a/1990/c8990cip.csv\n",
      "Uploaded data/raw/ipeds_completions_a/1990/C8990CIP.zip to gs://scipeds-data/raw/ipeds_completions_a/1990/C8990CIP.zip\n",
      "-------\n",
      "1991\n",
      "Uploaded data/raw/ipeds_completions_a/1991/c1991_cip.csv to gs://scipeds-data/raw/ipeds_completions_a/1991/c1991_cip.csv\n",
      "Uploaded data/raw/ipeds_completions_a/1991/C1991_CIP.zip to gs://scipeds-data/raw/ipeds_completions_a/1991/C1991_CIP.zip\n",
      "Uploaded data/raw/ipeds_completions_a/1991/c1991_cip.html to gs://scipeds-data/raw/ipeds_completions_a/1991/c1991_cip.html\n",
      "Uploaded data/raw/ipeds_completions_a/1991/c1991_cip_Dict.zip to gs://scipeds-data/raw/ipeds_completions_a/1991/c1991_cip_Dict.zip\n",
      "-------\n",
      "1992\n",
      "Uploaded data/raw/ipeds_completions_a/1992/c1992_cip.csv to gs://scipeds-data/raw/ipeds_completions_a/1992/c1992_cip.csv\n",
      "Uploaded data/raw/ipeds_completions_a/1992/C1992_CIP_Dict.zip to gs://scipeds-data/raw/ipeds_completions_a/1992/C1992_CIP_Dict.zip\n",
      "Uploaded data/raw/ipeds_completions_a/1992/C1992_CIP.zip to gs://scipeds-data/raw/ipeds_completions_a/1992/C1992_CIP.zip\n",
      "Uploaded data/raw/ipeds_completions_a/1992/c1992_cip.html to gs://scipeds-data/raw/ipeds_completions_a/1992/c1992_cip.html\n",
      "-------\n",
      "1993\n",
      "Uploaded data/raw/ipeds_completions_a/1993/C1993_CIP_Dict.zip to gs://scipeds-data/raw/ipeds_completions_a/1993/C1993_CIP_Dict.zip\n",
      "Uploaded data/raw/ipeds_completions_a/1993/C1993_CIP.zip to gs://scipeds-data/raw/ipeds_completions_a/1993/C1993_CIP.zip\n",
      "Uploaded data/raw/ipeds_completions_a/1993/c1993_cip.csv to gs://scipeds-data/raw/ipeds_completions_a/1993/c1993_cip.csv\n",
      "Uploaded data/raw/ipeds_completions_a/1993/c1993_cip.html to gs://scipeds-data/raw/ipeds_completions_a/1993/c1993_cip.html\n",
      "-------\n",
      "1994\n",
      "Uploaded data/raw/ipeds_completions_a/1994/C1994_CIP_Dict.zip to gs://scipeds-data/raw/ipeds_completions_a/1994/C1994_CIP_Dict.zip\n",
      "Uploaded data/raw/ipeds_completions_a/1994/c1994_cip.html to gs://scipeds-data/raw/ipeds_completions_a/1994/c1994_cip.html\n",
      "Uploaded data/raw/ipeds_completions_a/1994/C1994_CIP.zip to gs://scipeds-data/raw/ipeds_completions_a/1994/C1994_CIP.zip\n",
      "Uploaded data/raw/ipeds_completions_a/1994/c1994_cip.csv to gs://scipeds-data/raw/ipeds_completions_a/1994/c1994_cip.csv\n",
      "-------\n"
     ]
    }
   ],
   "source": [
    "# client = storage.Client()\n",
    "# bucket = client.bucket(\"scipeds-data\")\n",
    "\n",
    "def upload_directory_to_gcs(bucket, source_path, destination_prefix=\"\", dryrun=True):\n",
    "    \"\"\"\n",
    "    Uploads a local directory and its contents to a GCS bucket.\n",
    "\n",
    "    :param bucket_name: GCS bucket\n",
    "    :param source_dir: Path to the local directory to upload.\n",
    "    :param destination_prefix: Optional prefix for files in the bucket.\n",
    "    \"\"\"\n",
    "\n",
    "    for file_path in source_path.glob(\"**/*\"):\n",
    "        if file_path.is_file() and not file_path.name.startswith(\".\"):  \n",
    "            relative_path = file_path.relative_to(source_path)\n",
    "            gcs_path = f\"{destination_prefix}/{relative_path}\" if destination_prefix else str(relative_path)\n",
    "\n",
    "            blob = bucket.blob(gcs_path)\n",
    "            if not dryrun:\n",
    "                blob.upload_from_filename(str(file_path))\n",
    "            print(f\"Uploaded {file_path} to gs://{bucket.name}/{gcs_path}\")\n",
    "\n",
    "\n",
    "client = storage.Client()\n",
    "bucket = client.bucket(\"scipeds-data\")\n",
    "            \n",
    "for year in range(1984, 1995):\n",
    "    print(year)\n",
    "    local_dir = Path(f\"data/raw/ipeds_completions_a/{year}\")\n",
    "    upload_directory_to_gcs(bucket, local_dir, destination_prefix=f\"raw/ipeds_completions_a/{year}\", dryrun=False)\n",
    "    print('-------')\n"
   ]
  },
  {
   "cell_type": "code",
   "execution_count": 7,
   "id": "302ff491-2d44-4113-91b4-d299541761ef",
   "metadata": {},
   "outputs": [
    {
     "data": {
      "text/plain": [
       "'scipeds-data'"
      ]
     },
     "execution_count": 7,
     "metadata": {},
     "output_type": "execute_result"
    }
   ],
   "source": [
    "bucket.name"
   ]
  },
  {
   "cell_type": "code",
   "execution_count": null,
   "id": "0495721b-24fe-4df8-9772-7589a97fbabb",
   "metadata": {},
   "outputs": [],
   "source": []
  }
 ],
 "metadata": {
  "kernelspec": {
   "display_name": "Python 3 (ipykernel)",
   "language": "python",
   "name": "python3"
  },
  "language_info": {
   "codemirror_mode": {
    "name": "ipython",
    "version": 3
   },
   "file_extension": ".py",
   "mimetype": "text/x-python",
   "name": "python",
   "nbconvert_exporter": "python",
   "pygments_lexer": "ipython3",
   "version": "3.10.11"
  }
 },
 "nbformat": 4,
 "nbformat_minor": 5
}
